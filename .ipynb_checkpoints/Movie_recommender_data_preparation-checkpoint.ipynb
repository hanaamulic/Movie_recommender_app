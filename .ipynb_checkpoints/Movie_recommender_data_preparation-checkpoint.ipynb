{
 "cells": [
  {
   "cell_type": "code",
   "execution_count": 1,
   "id": "92002a0b-355a-4aa1-b0fe-595aa7a19e0c",
   "metadata": {},
   "outputs": [],
   "source": [
    "import pandas as pd\n",
    "import requests\n",
    "import numpy as np"
   ]
  },
  {
   "cell_type": "code",
   "execution_count": 485,
   "id": "84a5d8f6-56be-43a8-91a8-4a10fca64cd6",
   "metadata": {},
   "outputs": [],
   "source": [
    "credits = pd.read_csv('data/credits.csv')"
   ]
  },
  {
   "cell_type": "code",
   "execution_count": 486,
   "id": "eb8711c6-a4c7-466c-a875-237d25118dea",
   "metadata": {},
   "outputs": [],
   "source": [
    "keywords = pd.read_csv('data/keywords.csv')"
   ]
  },
  {
   "cell_type": "code",
   "execution_count": 487,
   "id": "c139357d-367b-41bc-bd6b-198e88748438",
   "metadata": {},
   "outputs": [],
   "source": [
    "links = pd.read_csv('data/links.csv')"
   ]
  },
  {
   "cell_type": "code",
   "execution_count": 488,
   "id": "9c1d06c4-c691-4d78-9cd0-ddf54a4a110b",
   "metadata": {},
   "outputs": [],
   "source": [
    "links_small = pd.read_csv('data/links_small.csv')"
   ]
  },
  {
   "cell_type": "code",
   "execution_count": 489,
   "id": "4226c72d-3c48-422d-afb4-57595143a5d9",
   "metadata": {},
   "outputs": [
    {
     "name": "stderr",
     "output_type": "stream",
     "text": [
      "C:\\Users\\HANA\\anaconda3\\lib\\site-packages\\IPython\\core\\interactiveshell.py:3444: DtypeWarning: Columns (10) have mixed types.Specify dtype option on import or set low_memory=False.\n",
      "  exec(code_obj, self.user_global_ns, self.user_ns)\n"
     ]
    }
   ],
   "source": [
    "movies_metadata = pd.read_csv('data/movies_metadata.csv')"
   ]
  },
  {
   "cell_type": "code",
   "execution_count": 490,
   "id": "f48296fe-f7bf-4b74-876a-bfdd12ae2649",
   "metadata": {},
   "outputs": [],
   "source": [
    "ratings_small = pd.read_csv('data/ratings_small.csv')"
   ]
  },
  {
   "cell_type": "code",
   "execution_count": 491,
   "id": "0dd83b63-80d0-48d7-9bc0-8e39b0c36692",
   "metadata": {
    "tags": []
   },
   "outputs": [
    {
     "data": {
      "text/html": [
       "<div>\n",
       "<style scoped>\n",
       "    .dataframe tbody tr th:only-of-type {\n",
       "        vertical-align: middle;\n",
       "    }\n",
       "\n",
       "    .dataframe tbody tr th {\n",
       "        vertical-align: top;\n",
       "    }\n",
       "\n",
       "    .dataframe thead th {\n",
       "        text-align: right;\n",
       "    }\n",
       "</style>\n",
       "<table border=\"1\" class=\"dataframe\">\n",
       "  <thead>\n",
       "    <tr style=\"text-align: right;\">\n",
       "      <th></th>\n",
       "      <th>adult</th>\n",
       "      <th>belongs_to_collection</th>\n",
       "      <th>budget</th>\n",
       "      <th>genres</th>\n",
       "      <th>homepage</th>\n",
       "      <th>id</th>\n",
       "      <th>imdb_id</th>\n",
       "      <th>original_language</th>\n",
       "      <th>original_title</th>\n",
       "      <th>overview</th>\n",
       "      <th>...</th>\n",
       "      <th>release_date</th>\n",
       "      <th>revenue</th>\n",
       "      <th>runtime</th>\n",
       "      <th>spoken_languages</th>\n",
       "      <th>status</th>\n",
       "      <th>tagline</th>\n",
       "      <th>title</th>\n",
       "      <th>video</th>\n",
       "      <th>vote_average</th>\n",
       "      <th>vote_count</th>\n",
       "    </tr>\n",
       "  </thead>\n",
       "  <tbody>\n",
       "    <tr>\n",
       "      <th>0</th>\n",
       "      <td>False</td>\n",
       "      <td>{'id': 10194, 'name': 'Toy Story Collection', ...</td>\n",
       "      <td>30000000</td>\n",
       "      <td>[{'id': 16, 'name': 'Animation'}, {'id': 35, '...</td>\n",
       "      <td>http://toystory.disney.com/toy-story</td>\n",
       "      <td>862</td>\n",
       "      <td>tt0114709</td>\n",
       "      <td>en</td>\n",
       "      <td>Toy Story</td>\n",
       "      <td>Led by Woody, Andy's toys live happily in his ...</td>\n",
       "      <td>...</td>\n",
       "      <td>1995-10-30</td>\n",
       "      <td>373554033.0</td>\n",
       "      <td>81.0</td>\n",
       "      <td>[{'iso_639_1': 'en', 'name': 'English'}]</td>\n",
       "      <td>Released</td>\n",
       "      <td>NaN</td>\n",
       "      <td>Toy Story</td>\n",
       "      <td>False</td>\n",
       "      <td>7.7</td>\n",
       "      <td>5415.0</td>\n",
       "    </tr>\n",
       "    <tr>\n",
       "      <th>1</th>\n",
       "      <td>False</td>\n",
       "      <td>NaN</td>\n",
       "      <td>65000000</td>\n",
       "      <td>[{'id': 12, 'name': 'Adventure'}, {'id': 14, '...</td>\n",
       "      <td>NaN</td>\n",
       "      <td>8844</td>\n",
       "      <td>tt0113497</td>\n",
       "      <td>en</td>\n",
       "      <td>Jumanji</td>\n",
       "      <td>When siblings Judy and Peter discover an encha...</td>\n",
       "      <td>...</td>\n",
       "      <td>1995-12-15</td>\n",
       "      <td>262797249.0</td>\n",
       "      <td>104.0</td>\n",
       "      <td>[{'iso_639_1': 'en', 'name': 'English'}, {'iso...</td>\n",
       "      <td>Released</td>\n",
       "      <td>Roll the dice and unleash the excitement!</td>\n",
       "      <td>Jumanji</td>\n",
       "      <td>False</td>\n",
       "      <td>6.9</td>\n",
       "      <td>2413.0</td>\n",
       "    </tr>\n",
       "    <tr>\n",
       "      <th>2</th>\n",
       "      <td>False</td>\n",
       "      <td>{'id': 119050, 'name': 'Grumpy Old Men Collect...</td>\n",
       "      <td>0</td>\n",
       "      <td>[{'id': 10749, 'name': 'Romance'}, {'id': 35, ...</td>\n",
       "      <td>NaN</td>\n",
       "      <td>15602</td>\n",
       "      <td>tt0113228</td>\n",
       "      <td>en</td>\n",
       "      <td>Grumpier Old Men</td>\n",
       "      <td>A family wedding reignites the ancient feud be...</td>\n",
       "      <td>...</td>\n",
       "      <td>1995-12-22</td>\n",
       "      <td>0.0</td>\n",
       "      <td>101.0</td>\n",
       "      <td>[{'iso_639_1': 'en', 'name': 'English'}]</td>\n",
       "      <td>Released</td>\n",
       "      <td>Still Yelling. Still Fighting. Still Ready for...</td>\n",
       "      <td>Grumpier Old Men</td>\n",
       "      <td>False</td>\n",
       "      <td>6.5</td>\n",
       "      <td>92.0</td>\n",
       "    </tr>\n",
       "    <tr>\n",
       "      <th>3</th>\n",
       "      <td>False</td>\n",
       "      <td>NaN</td>\n",
       "      <td>16000000</td>\n",
       "      <td>[{'id': 35, 'name': 'Comedy'}, {'id': 18, 'nam...</td>\n",
       "      <td>NaN</td>\n",
       "      <td>31357</td>\n",
       "      <td>tt0114885</td>\n",
       "      <td>en</td>\n",
       "      <td>Waiting to Exhale</td>\n",
       "      <td>Cheated on, mistreated and stepped on, the wom...</td>\n",
       "      <td>...</td>\n",
       "      <td>1995-12-22</td>\n",
       "      <td>81452156.0</td>\n",
       "      <td>127.0</td>\n",
       "      <td>[{'iso_639_1': 'en', 'name': 'English'}]</td>\n",
       "      <td>Released</td>\n",
       "      <td>Friends are the people who let you be yourself...</td>\n",
       "      <td>Waiting to Exhale</td>\n",
       "      <td>False</td>\n",
       "      <td>6.1</td>\n",
       "      <td>34.0</td>\n",
       "    </tr>\n",
       "    <tr>\n",
       "      <th>4</th>\n",
       "      <td>False</td>\n",
       "      <td>{'id': 96871, 'name': 'Father of the Bride Col...</td>\n",
       "      <td>0</td>\n",
       "      <td>[{'id': 35, 'name': 'Comedy'}]</td>\n",
       "      <td>NaN</td>\n",
       "      <td>11862</td>\n",
       "      <td>tt0113041</td>\n",
       "      <td>en</td>\n",
       "      <td>Father of the Bride Part II</td>\n",
       "      <td>Just when George Banks has recovered from his ...</td>\n",
       "      <td>...</td>\n",
       "      <td>1995-02-10</td>\n",
       "      <td>76578911.0</td>\n",
       "      <td>106.0</td>\n",
       "      <td>[{'iso_639_1': 'en', 'name': 'English'}]</td>\n",
       "      <td>Released</td>\n",
       "      <td>Just When His World Is Back To Normal... He's ...</td>\n",
       "      <td>Father of the Bride Part II</td>\n",
       "      <td>False</td>\n",
       "      <td>5.7</td>\n",
       "      <td>173.0</td>\n",
       "    </tr>\n",
       "  </tbody>\n",
       "</table>\n",
       "<p>5 rows × 24 columns</p>\n",
       "</div>"
      ],
      "text/plain": [
       "   adult                              belongs_to_collection    budget  \\\n",
       "0  False  {'id': 10194, 'name': 'Toy Story Collection', ...  30000000   \n",
       "1  False                                                NaN  65000000   \n",
       "2  False  {'id': 119050, 'name': 'Grumpy Old Men Collect...         0   \n",
       "3  False                                                NaN  16000000   \n",
       "4  False  {'id': 96871, 'name': 'Father of the Bride Col...         0   \n",
       "\n",
       "                                              genres  \\\n",
       "0  [{'id': 16, 'name': 'Animation'}, {'id': 35, '...   \n",
       "1  [{'id': 12, 'name': 'Adventure'}, {'id': 14, '...   \n",
       "2  [{'id': 10749, 'name': 'Romance'}, {'id': 35, ...   \n",
       "3  [{'id': 35, 'name': 'Comedy'}, {'id': 18, 'nam...   \n",
       "4                     [{'id': 35, 'name': 'Comedy'}]   \n",
       "\n",
       "                               homepage     id    imdb_id original_language  \\\n",
       "0  http://toystory.disney.com/toy-story    862  tt0114709                en   \n",
       "1                                   NaN   8844  tt0113497                en   \n",
       "2                                   NaN  15602  tt0113228                en   \n",
       "3                                   NaN  31357  tt0114885                en   \n",
       "4                                   NaN  11862  tt0113041                en   \n",
       "\n",
       "                original_title  \\\n",
       "0                    Toy Story   \n",
       "1                      Jumanji   \n",
       "2             Grumpier Old Men   \n",
       "3            Waiting to Exhale   \n",
       "4  Father of the Bride Part II   \n",
       "\n",
       "                                            overview  ... release_date  \\\n",
       "0  Led by Woody, Andy's toys live happily in his ...  ...   1995-10-30   \n",
       "1  When siblings Judy and Peter discover an encha...  ...   1995-12-15   \n",
       "2  A family wedding reignites the ancient feud be...  ...   1995-12-22   \n",
       "3  Cheated on, mistreated and stepped on, the wom...  ...   1995-12-22   \n",
       "4  Just when George Banks has recovered from his ...  ...   1995-02-10   \n",
       "\n",
       "       revenue runtime                                   spoken_languages  \\\n",
       "0  373554033.0    81.0           [{'iso_639_1': 'en', 'name': 'English'}]   \n",
       "1  262797249.0   104.0  [{'iso_639_1': 'en', 'name': 'English'}, {'iso...   \n",
       "2          0.0   101.0           [{'iso_639_1': 'en', 'name': 'English'}]   \n",
       "3   81452156.0   127.0           [{'iso_639_1': 'en', 'name': 'English'}]   \n",
       "4   76578911.0   106.0           [{'iso_639_1': 'en', 'name': 'English'}]   \n",
       "\n",
       "     status                                            tagline  \\\n",
       "0  Released                                                NaN   \n",
       "1  Released          Roll the dice and unleash the excitement!   \n",
       "2  Released  Still Yelling. Still Fighting. Still Ready for...   \n",
       "3  Released  Friends are the people who let you be yourself...   \n",
       "4  Released  Just When His World Is Back To Normal... He's ...   \n",
       "\n",
       "                         title  video vote_average vote_count  \n",
       "0                    Toy Story  False          7.7     5415.0  \n",
       "1                      Jumanji  False          6.9     2413.0  \n",
       "2             Grumpier Old Men  False          6.5       92.0  \n",
       "3            Waiting to Exhale  False          6.1       34.0  \n",
       "4  Father of the Bride Part II  False          5.7      173.0  \n",
       "\n",
       "[5 rows x 24 columns]"
      ]
     },
     "execution_count": 491,
     "metadata": {},
     "output_type": "execute_result"
    }
   ],
   "source": [
    "movies_metadata.head(5)"
   ]
  },
  {
   "cell_type": "code",
   "execution_count": 492,
   "id": "8db3da58-d70e-44bd-9023-aaae401e5ce2",
   "metadata": {
    "tags": []
   },
   "outputs": [
    {
     "name": "stdout",
     "output_type": "stream",
     "text": [
      "<class 'pandas.core.frame.DataFrame'>\n",
      "RangeIndex: 45466 entries, 0 to 45465\n",
      "Data columns (total 24 columns):\n",
      " #   Column                 Non-Null Count  Dtype  \n",
      "---  ------                 --------------  -----  \n",
      " 0   adult                  45466 non-null  object \n",
      " 1   belongs_to_collection  4494 non-null   object \n",
      " 2   budget                 45466 non-null  object \n",
      " 3   genres                 45466 non-null  object \n",
      " 4   homepage               7782 non-null   object \n",
      " 5   id                     45466 non-null  object \n",
      " 6   imdb_id                45449 non-null  object \n",
      " 7   original_language      45455 non-null  object \n",
      " 8   original_title         45466 non-null  object \n",
      " 9   overview               44512 non-null  object \n",
      " 10  popularity             45461 non-null  object \n",
      " 11  poster_path            45080 non-null  object \n",
      " 12  production_companies   45463 non-null  object \n",
      " 13  production_countries   45463 non-null  object \n",
      " 14  release_date           45379 non-null  object \n",
      " 15  revenue                45460 non-null  float64\n",
      " 16  runtime                45203 non-null  float64\n",
      " 17  spoken_languages       45460 non-null  object \n",
      " 18  status                 45379 non-null  object \n",
      " 19  tagline                20412 non-null  object \n",
      " 20  title                  45460 non-null  object \n",
      " 21  video                  45460 non-null  object \n",
      " 22  vote_average           45460 non-null  float64\n",
      " 23  vote_count             45460 non-null  float64\n",
      "dtypes: float64(4), object(20)\n",
      "memory usage: 8.3+ MB\n"
     ]
    }
   ],
   "source": [
    "movies_metadata.info()"
   ]
  },
  {
   "cell_type": "code",
   "execution_count": 493,
   "id": "5c1786ea-6aef-4a88-9972-7f443a912318",
   "metadata": {},
   "outputs": [],
   "source": [
    "movies_metadata = movies_metadata.drop([19730,29503,35587],axis=0)"
   ]
  },
  {
   "cell_type": "code",
   "execution_count": 494,
   "id": "16e7eec3-15b7-49a3-9ce3-013c69b173ed",
   "metadata": {
    "tags": []
   },
   "outputs": [
    {
     "data": {
      "text/html": [
       "<div>\n",
       "<style scoped>\n",
       "    .dataframe tbody tr th:only-of-type {\n",
       "        vertical-align: middle;\n",
       "    }\n",
       "\n",
       "    .dataframe tbody tr th {\n",
       "        vertical-align: top;\n",
       "    }\n",
       "\n",
       "    .dataframe thead th {\n",
       "        text-align: right;\n",
       "    }\n",
       "</style>\n",
       "<table border=\"1\" class=\"dataframe\">\n",
       "  <thead>\n",
       "    <tr style=\"text-align: right;\">\n",
       "      <th></th>\n",
       "      <th>adult</th>\n",
       "      <th>belongs_to_collection</th>\n",
       "      <th>budget</th>\n",
       "      <th>genres</th>\n",
       "      <th>homepage</th>\n",
       "      <th>id</th>\n",
       "      <th>imdb_id</th>\n",
       "      <th>original_language</th>\n",
       "      <th>original_title</th>\n",
       "      <th>overview</th>\n",
       "      <th>...</th>\n",
       "      <th>release_date</th>\n",
       "      <th>revenue</th>\n",
       "      <th>runtime</th>\n",
       "      <th>spoken_languages</th>\n",
       "      <th>status</th>\n",
       "      <th>tagline</th>\n",
       "      <th>title</th>\n",
       "      <th>video</th>\n",
       "      <th>vote_average</th>\n",
       "      <th>vote_count</th>\n",
       "    </tr>\n",
       "  </thead>\n",
       "  <tbody>\n",
       "  </tbody>\n",
       "</table>\n",
       "<p>0 rows × 24 columns</p>\n",
       "</div>"
      ],
      "text/plain": [
       "Empty DataFrame\n",
       "Columns: [adult, belongs_to_collection, budget, genres, homepage, id, imdb_id, original_language, original_title, overview, popularity, poster_path, production_companies, production_countries, release_date, revenue, runtime, spoken_languages, status, tagline, title, video, vote_average, vote_count]\n",
       "Index: []\n",
       "\n",
       "[0 rows x 24 columns]"
      ]
     },
     "execution_count": 494,
     "metadata": {},
     "output_type": "execute_result"
    }
   ],
   "source": [
    "movies_metadata[movies_metadata.id.str.contains(r'-')]"
   ]
  },
  {
   "cell_type": "code",
   "execution_count": 495,
   "id": "15282e16-889c-47ab-b387-7e711da1e268",
   "metadata": {},
   "outputs": [],
   "source": [
    "movies_metadata['id'] = movies_metadata['id'].astype(str).astype(int)"
   ]
  },
  {
   "cell_type": "markdown",
   "id": "1d373f5d-ab1c-4f3e-87c1-d689337fa702",
   "metadata": {},
   "source": [
    "## Top movies"
   ]
  },
  {
   "cell_type": "markdown",
   "id": "5e72bebb-b564-4af9-8b17-2296f167208f",
   "metadata": {},
   "source": [
    "Weighted Rating (WR) =  (v/(v+m)*R)+(m/(v+m)*C) \n",
    "where,\n",
    "\n",
    "v is the number of votes for the movie\n",
    "m is the minimum votes required to be listed in the chart\n",
    "R is the average rating of the movie\n",
    "C is the mean vote across the whole report"
   ]
  },
  {
   "cell_type": "code",
   "execution_count": 496,
   "id": "84f375f4-b71f-49f9-9315-ff7b955fa6a1",
   "metadata": {},
   "outputs": [
    {
     "data": {
      "text/plain": [
       "434.0"
      ]
     },
     "execution_count": 496,
     "metadata": {},
     "output_type": "execute_result"
    }
   ],
   "source": [
    "m = movies_metadata['vote_count'].quantile(0.95)\n",
    "m"
   ]
  },
  {
   "cell_type": "code",
   "execution_count": 497,
   "id": "5ca81ead-3a64-44f9-8884-cd60e3992bf7",
   "metadata": {},
   "outputs": [
    {
     "data": {
      "text/plain": [
       "5.618207215133889"
      ]
     },
     "execution_count": 497,
     "metadata": {},
     "output_type": "execute_result"
    }
   ],
   "source": [
    "C = movies_metadata['vote_average'].mean()\n",
    "C"
   ]
  },
  {
   "cell_type": "code",
   "execution_count": 498,
   "id": "39fba53e-8faa-4748-b519-93a5da84bcde",
   "metadata": {},
   "outputs": [],
   "source": [
    "qualified_movies = movies_metadata[(movies_metadata.vote_count > m) & (movies_metadata.vote_average > C)]"
   ]
  },
  {
   "cell_type": "code",
   "execution_count": 499,
   "id": "043a94e6-5c47-4cb6-8ed3-3abac95881c6",
   "metadata": {
    "tags": []
   },
   "outputs": [],
   "source": [
    "qualified_movies = qualified_movies.assign( weighted_rate = lambda x: (x['vote_count'] / (x['vote_count'] + m) * x['vote_average']) + (m / (x['vote_count'] + m) * C))"
   ]
  },
  {
   "cell_type": "code",
   "execution_count": 500,
   "id": "9823e110-4947-4cb2-a0b4-27dac350d76d",
   "metadata": {
    "tags": []
   },
   "outputs": [],
   "source": [
    "top_movies = qualified_movies.sort_values('weighted_rate', ascending= False)"
   ]
  },
  {
   "cell_type": "code",
   "execution_count": 18,
   "id": "a24e7200-b177-45fd-a2d0-27d92c4efd8c",
   "metadata": {},
   "outputs": [],
   "source": [
    "# top_movies.to_csv('data/top_movies.csv',index=False)"
   ]
  },
  {
   "cell_type": "markdown",
   "id": "719d2bad-63fd-46ac-87e0-a4752d4a79b9",
   "metadata": {},
   "source": [
    "#### How to find the right poster (poster_path in database is not correct)"
   ]
  },
  {
   "cell_type": "code",
   "execution_count": 501,
   "id": "1e5f67fb-3d7f-4ff9-9fa1-31e079e77322",
   "metadata": {},
   "outputs": [],
   "source": [
    "API_key = 'd06b517b45b8643d8cdb739e04465106'"
   ]
  },
  {
   "cell_type": "code",
   "execution_count": 502,
   "id": "2e5e44ef-0c7b-406a-b0e5-896ad606aa6e",
   "metadata": {
    "tags": []
   },
   "outputs": [],
   "source": [
    "response = requests.get(f\"\"\"https://api.themoviedb.org/3/find/tt0114709?api_key={API_key}&language=en-US&external_source=imdb_id\"\"\")"
   ]
  },
  {
   "cell_type": "code",
   "execution_count": 503,
   "id": "98f89efb-a1ca-44d9-b03e-5b1a661b9645",
   "metadata": {
    "tags": []
   },
   "outputs": [
    {
     "data": {
      "text/plain": [
       "{'movie_results': [{'video': False,\n",
       "   'title': 'Toy Story',\n",
       "   'id': 862,\n",
       "   'overview': \"Led by Woody, Andy's toys live happily in his room until Andy's birthday brings Buzz Lightyear onto the scene. Afraid of losing his place in Andy's heart, Woody plots against Buzz. But when circumstances separate Buzz and Woody from their owner, the duo eventually learns to put aside their differences.\",\n",
       "   'release_date': '1995-10-30',\n",
       "   'adult': False,\n",
       "   'backdrop_path': '/3Rfvhy1Nl6sSGJwyjb0QiZzZYlB.jpg',\n",
       "   'vote_count': 15005,\n",
       "   'genre_ids': [16, 12, 10751, 35],\n",
       "   'original_language': 'en',\n",
       "   'original_title': 'Toy Story',\n",
       "   'poster_path': '/uXDfjJbdP4ijW5hWSBrPrlKpxab.jpg',\n",
       "   'vote_average': 8.0,\n",
       "   'popularity': 199.235}],\n",
       " 'person_results': [],\n",
       " 'tv_results': [],\n",
       " 'tv_episode_results': [],\n",
       " 'tv_season_results': []}"
      ]
     },
     "execution_count": 503,
     "metadata": {},
     "output_type": "execute_result"
    }
   ],
   "source": [
    "response.json()"
   ]
  },
  {
   "cell_type": "code",
   "execution_count": 504,
   "id": "f34dd35d-2722-4312-8c5c-3f7f7a5c1431",
   "metadata": {
    "tags": []
   },
   "outputs": [
    {
     "data": {
      "text/plain": [
       "'/uXDfjJbdP4ijW5hWSBrPrlKpxab.jpg'"
      ]
     },
     "execution_count": 504,
     "metadata": {},
     "output_type": "execute_result"
    }
   ],
   "source": [
    "response.json()['movie_results'][0]['poster_path']"
   ]
  },
  {
   "cell_type": "markdown",
   "id": "8174c95c-572a-491a-80d2-2d20227d0993",
   "metadata": {},
   "source": [
    "### Working with genres"
   ]
  },
  {
   "cell_type": "code",
   "execution_count": 505,
   "id": "b6cf3f0b-a23b-40d8-a097-e3e60bd7959d",
   "metadata": {},
   "outputs": [],
   "source": [
    "import json"
   ]
  },
  {
   "cell_type": "code",
   "execution_count": 506,
   "id": "d3879673-1759-461c-8ce1-8735cfe99bdb",
   "metadata": {},
   "outputs": [],
   "source": [
    "genre_dict = {'id':[],'genre':[]}\n",
    "for i, movie in movies_metadata.iterrows():\n",
    "    for genre in json.loads(movie.genres.replace('\\'', '\"')):\n",
    "        genre_dict['id'].append(genre['id'])\n",
    "        genre_dict['genre'].append(genre['name'])"
   ]
  },
  {
   "cell_type": "code",
   "execution_count": 507,
   "id": "0259b58f-9ed8-40a2-aab1-1d6e5c27d3ac",
   "metadata": {},
   "outputs": [],
   "source": [
    "genres = pd.DataFrame.from_dict(genre_dict)\n",
    "genres = genres.drop_duplicates()"
   ]
  },
  {
   "cell_type": "code",
   "execution_count": 508,
   "id": "0a5d644e-95ea-4dd8-a219-55792f1eaba2",
   "metadata": {},
   "outputs": [],
   "source": [
    "genre = 'Drama'"
   ]
  },
  {
   "cell_type": "code",
   "execution_count": 509,
   "id": "bd869ecc-474e-406e-ade8-b977735dd3b4",
   "metadata": {},
   "outputs": [
    {
     "name": "stdout",
     "output_type": "stream",
     "text": [
      "<class 'pandas.core.frame.DataFrame'>\n",
      "Int64Index: 20 entries, 0 to 738\n",
      "Data columns (total 2 columns):\n",
      " #   Column  Non-Null Count  Dtype \n",
      "---  ------  --------------  ----- \n",
      " 0   id      20 non-null     int64 \n",
      " 1   genre   20 non-null     object\n",
      "dtypes: int64(1), object(1)\n",
      "memory usage: 480.0+ bytes\n"
     ]
    }
   ],
   "source": [
    "genres.info()"
   ]
  },
  {
   "cell_type": "code",
   "execution_count": 510,
   "id": "c93ff97c-0bbe-4339-94c9-818512bf2db2",
   "metadata": {
    "tags": []
   },
   "outputs": [
    {
     "data": {
      "text/html": [
       "<div>\n",
       "<style scoped>\n",
       "    .dataframe tbody tr th:only-of-type {\n",
       "        vertical-align: middle;\n",
       "    }\n",
       "\n",
       "    .dataframe tbody tr th {\n",
       "        vertical-align: top;\n",
       "    }\n",
       "\n",
       "    .dataframe thead th {\n",
       "        text-align: right;\n",
       "    }\n",
       "</style>\n",
       "<table border=\"1\" class=\"dataframe\">\n",
       "  <thead>\n",
       "    <tr style=\"text-align: right;\">\n",
       "      <th></th>\n",
       "      <th>index</th>\n",
       "      <th>adult</th>\n",
       "      <th>belongs_to_collection</th>\n",
       "      <th>budget</th>\n",
       "      <th>genres</th>\n",
       "      <th>homepage</th>\n",
       "      <th>id</th>\n",
       "      <th>imdb_id</th>\n",
       "      <th>original_language</th>\n",
       "      <th>original_title</th>\n",
       "      <th>...</th>\n",
       "      <th>revenue</th>\n",
       "      <th>runtime</th>\n",
       "      <th>spoken_languages</th>\n",
       "      <th>status</th>\n",
       "      <th>tagline</th>\n",
       "      <th>title</th>\n",
       "      <th>video</th>\n",
       "      <th>vote_average</th>\n",
       "      <th>vote_count</th>\n",
       "      <th>weighted_rate</th>\n",
       "    </tr>\n",
       "  </thead>\n",
       "  <tbody>\n",
       "    <tr>\n",
       "      <th>0</th>\n",
       "      <td>314</td>\n",
       "      <td>False</td>\n",
       "      <td>NaN</td>\n",
       "      <td>25000000</td>\n",
       "      <td>[{'id': 18, 'name': 'Drama'}, {'id': 80, 'name...</td>\n",
       "      <td>NaN</td>\n",
       "      <td>278</td>\n",
       "      <td>tt0111161</td>\n",
       "      <td>en</td>\n",
       "      <td>The Shawshank Redemption</td>\n",
       "      <td>...</td>\n",
       "      <td>2.834147e+07</td>\n",
       "      <td>142.0</td>\n",
       "      <td>[{'iso_639_1': 'en', 'name': 'English'}]</td>\n",
       "      <td>Released</td>\n",
       "      <td>Fear can hold you prisoner. Hope can set you f...</td>\n",
       "      <td>The Shawshank Redemption</td>\n",
       "      <td>False</td>\n",
       "      <td>8.5</td>\n",
       "      <td>8358.0</td>\n",
       "      <td>8.357746</td>\n",
       "    </tr>\n",
       "    <tr>\n",
       "      <th>1</th>\n",
       "      <td>834</td>\n",
       "      <td>False</td>\n",
       "      <td>{'id': 230, 'name': 'The Godfather Collection'...</td>\n",
       "      <td>6000000</td>\n",
       "      <td>[{'id': 18, 'name': 'Drama'}, {'id': 80, 'name...</td>\n",
       "      <td>http://www.thegodfather.com/</td>\n",
       "      <td>238</td>\n",
       "      <td>tt0068646</td>\n",
       "      <td>en</td>\n",
       "      <td>The Godfather</td>\n",
       "      <td>...</td>\n",
       "      <td>2.450664e+08</td>\n",
       "      <td>175.0</td>\n",
       "      <td>[{'iso_639_1': 'en', 'name': 'English'}, {'iso...</td>\n",
       "      <td>Released</td>\n",
       "      <td>An offer you can't refuse.</td>\n",
       "      <td>The Godfather</td>\n",
       "      <td>False</td>\n",
       "      <td>8.5</td>\n",
       "      <td>6024.0</td>\n",
       "      <td>8.306334</td>\n",
       "    </tr>\n",
       "    <tr>\n",
       "      <th>2</th>\n",
       "      <td>12481</td>\n",
       "      <td>False</td>\n",
       "      <td>{'id': 263, 'name': 'The Dark Knight Collectio...</td>\n",
       "      <td>185000000</td>\n",
       "      <td>[{'id': 18, 'name': 'Drama'}, {'id': 28, 'name...</td>\n",
       "      <td>http://thedarkknight.warnerbros.com/dvdsite/</td>\n",
       "      <td>155</td>\n",
       "      <td>tt0468569</td>\n",
       "      <td>en</td>\n",
       "      <td>The Dark Knight</td>\n",
       "      <td>...</td>\n",
       "      <td>1.004558e+09</td>\n",
       "      <td>152.0</td>\n",
       "      <td>[{'iso_639_1': 'en', 'name': 'English'}, {'iso...</td>\n",
       "      <td>Released</td>\n",
       "      <td>Why So Serious?</td>\n",
       "      <td>The Dark Knight</td>\n",
       "      <td>False</td>\n",
       "      <td>8.3</td>\n",
       "      <td>12269.0</td>\n",
       "      <td>8.208376</td>\n",
       "    </tr>\n",
       "    <tr>\n",
       "      <th>3</th>\n",
       "      <td>2843</td>\n",
       "      <td>False</td>\n",
       "      <td>NaN</td>\n",
       "      <td>63000000</td>\n",
       "      <td>[{'id': 18, 'name': 'Drama'}]</td>\n",
       "      <td>http://www.foxmovies.com/movies/fight-club</td>\n",
       "      <td>550</td>\n",
       "      <td>tt0137523</td>\n",
       "      <td>en</td>\n",
       "      <td>Fight Club</td>\n",
       "      <td>...</td>\n",
       "      <td>1.008538e+08</td>\n",
       "      <td>139.0</td>\n",
       "      <td>[{'iso_639_1': 'en', 'name': 'English'}]</td>\n",
       "      <td>Released</td>\n",
       "      <td>Mischief. Mayhem. Soap.</td>\n",
       "      <td>Fight Club</td>\n",
       "      <td>False</td>\n",
       "      <td>8.3</td>\n",
       "      <td>9678.0</td>\n",
       "      <td>8.184899</td>\n",
       "    </tr>\n",
       "    <tr>\n",
       "      <th>4</th>\n",
       "      <td>351</td>\n",
       "      <td>False</td>\n",
       "      <td>NaN</td>\n",
       "      <td>55000000</td>\n",
       "      <td>[{'id': 35, 'name': 'Comedy'}, {'id': 18, 'nam...</td>\n",
       "      <td>NaN</td>\n",
       "      <td>13</td>\n",
       "      <td>tt0109830</td>\n",
       "      <td>en</td>\n",
       "      <td>Forrest Gump</td>\n",
       "      <td>...</td>\n",
       "      <td>6.779454e+08</td>\n",
       "      <td>142.0</td>\n",
       "      <td>[{'iso_639_1': 'en', 'name': 'English'}]</td>\n",
       "      <td>Released</td>\n",
       "      <td>The world will never be the same, once you've ...</td>\n",
       "      <td>Forrest Gump</td>\n",
       "      <td>False</td>\n",
       "      <td>8.2</td>\n",
       "      <td>8147.0</td>\n",
       "      <td>8.069421</td>\n",
       "    </tr>\n",
       "    <tr>\n",
       "      <th>...</th>\n",
       "      <td>...</td>\n",
       "      <td>...</td>\n",
       "      <td>...</td>\n",
       "      <td>...</td>\n",
       "      <td>...</td>\n",
       "      <td>...</td>\n",
       "      <td>...</td>\n",
       "      <td>...</td>\n",
       "      <td>...</td>\n",
       "      <td>...</td>\n",
       "      <td>...</td>\n",
       "      <td>...</td>\n",
       "      <td>...</td>\n",
       "      <td>...</td>\n",
       "      <td>...</td>\n",
       "      <td>...</td>\n",
       "      <td>...</td>\n",
       "      <td>...</td>\n",
       "      <td>...</td>\n",
       "      <td>...</td>\n",
       "      <td>...</td>\n",
       "    </tr>\n",
       "    <tr>\n",
       "      <th>857</th>\n",
       "      <td>20273</td>\n",
       "      <td>False</td>\n",
       "      <td>NaN</td>\n",
       "      <td>56000000</td>\n",
       "      <td>[{'id': 53, 'name': 'Thriller'}, {'id': 80, 'n...</td>\n",
       "      <td>http://www.brokencitymovie.com/</td>\n",
       "      <td>98357</td>\n",
       "      <td>tt1235522</td>\n",
       "      <td>en</td>\n",
       "      <td>Broken City</td>\n",
       "      <td>...</td>\n",
       "      <td>1.970116e+07</td>\n",
       "      <td>109.0</td>\n",
       "      <td>[{'iso_639_1': 'en', 'name': 'English'}]</td>\n",
       "      <td>Released</td>\n",
       "      <td>Proof Can Be a Powerful Weapon.</td>\n",
       "      <td>Broken City</td>\n",
       "      <td>False</td>\n",
       "      <td>5.7</td>\n",
       "      <td>601.0</td>\n",
       "      <td>5.665702</td>\n",
       "    </tr>\n",
       "    <tr>\n",
       "      <th>858</th>\n",
       "      <td>27148</td>\n",
       "      <td>False</td>\n",
       "      <td>NaN</td>\n",
       "      <td>25000000</td>\n",
       "      <td>[{'id': 53, 'name': 'Thriller'}, {'id': 80, 'n...</td>\n",
       "      <td>http://www.thegamblermovie.com/</td>\n",
       "      <td>284536</td>\n",
       "      <td>tt2039393</td>\n",
       "      <td>en</td>\n",
       "      <td>The Gambler</td>\n",
       "      <td>...</td>\n",
       "      <td>3.917113e+07</td>\n",
       "      <td>111.0</td>\n",
       "      <td>[{'iso_639_1': 'en', 'name': 'English'}]</td>\n",
       "      <td>Released</td>\n",
       "      <td>The only way out is all in</td>\n",
       "      <td>The Gambler</td>\n",
       "      <td>False</td>\n",
       "      <td>5.7</td>\n",
       "      <td>550.0</td>\n",
       "      <td>5.663925</td>\n",
       "    </tr>\n",
       "    <tr>\n",
       "      <th>859</th>\n",
       "      <td>31751</td>\n",
       "      <td>False</td>\n",
       "      <td>NaN</td>\n",
       "      <td>20000000</td>\n",
       "      <td>[{'id': 18, 'name': 'Drama'}, {'id': 9648, 'na...</td>\n",
       "      <td>http://darkplacesmovie.com/</td>\n",
       "      <td>182560</td>\n",
       "      <td>tt2402101</td>\n",
       "      <td>en</td>\n",
       "      <td>Dark Places</td>\n",
       "      <td>...</td>\n",
       "      <td>2.085880e+05</td>\n",
       "      <td>113.0</td>\n",
       "      <td>[{'iso_639_1': 'en', 'name': 'English'}]</td>\n",
       "      <td>Released</td>\n",
       "      <td>In 1985, her entire family was murdered. 30 ye...</td>\n",
       "      <td>Dark Places</td>\n",
       "      <td>False</td>\n",
       "      <td>5.7</td>\n",
       "      <td>488.0</td>\n",
       "      <td>5.661499</td>\n",
       "    </tr>\n",
       "    <tr>\n",
       "      <th>860</th>\n",
       "      <td>93</td>\n",
       "      <td>False</td>\n",
       "      <td>NaN</td>\n",
       "      <td>50000000</td>\n",
       "      <td>[{'id': 28, 'name': 'Action'}, {'id': 12, 'nam...</td>\n",
       "      <td>NaN</td>\n",
       "      <td>9208</td>\n",
       "      <td>tt0115759</td>\n",
       "      <td>en</td>\n",
       "      <td>Broken Arrow</td>\n",
       "      <td>...</td>\n",
       "      <td>1.502701e+08</td>\n",
       "      <td>108.0</td>\n",
       "      <td>[{'iso_639_1': 'en', 'name': 'English'}]</td>\n",
       "      <td>Released</td>\n",
       "      <td>Prepare to Go Ballistic.</td>\n",
       "      <td>Broken Arrow</td>\n",
       "      <td>False</td>\n",
       "      <td>5.7</td>\n",
       "      <td>459.0</td>\n",
       "      <td>5.660249</td>\n",
       "    </tr>\n",
       "    <tr>\n",
       "      <th>861</th>\n",
       "      <td>9892</td>\n",
       "      <td>False</td>\n",
       "      <td>NaN</td>\n",
       "      <td>130000000</td>\n",
       "      <td>[{'id': 28, 'name': 'Action'}, {'id': 12, 'nam...</td>\n",
       "      <td>NaN</td>\n",
       "      <td>7364</td>\n",
       "      <td>tt0318649</td>\n",
       "      <td>en</td>\n",
       "      <td>Sahara</td>\n",
       "      <td>...</td>\n",
       "      <td>1.192695e+08</td>\n",
       "      <td>124.0</td>\n",
       "      <td>[{'iso_639_1': 'en', 'name': 'English'}, {'iso...</td>\n",
       "      <td>Released</td>\n",
       "      <td>Dirk Pitt. Adventure has a new name.</td>\n",
       "      <td>Sahara</td>\n",
       "      <td>False</td>\n",
       "      <td>5.7</td>\n",
       "      <td>440.0</td>\n",
       "      <td>5.659384</td>\n",
       "    </tr>\n",
       "  </tbody>\n",
       "</table>\n",
       "<p>862 rows × 26 columns</p>\n",
       "</div>"
      ],
      "text/plain": [
       "     index  adult                              belongs_to_collection  \\\n",
       "0      314  False                                                NaN   \n",
       "1      834  False  {'id': 230, 'name': 'The Godfather Collection'...   \n",
       "2    12481  False  {'id': 263, 'name': 'The Dark Knight Collectio...   \n",
       "3     2843  False                                                NaN   \n",
       "4      351  False                                                NaN   \n",
       "..     ...    ...                                                ...   \n",
       "857  20273  False                                                NaN   \n",
       "858  27148  False                                                NaN   \n",
       "859  31751  False                                                NaN   \n",
       "860     93  False                                                NaN   \n",
       "861   9892  False                                                NaN   \n",
       "\n",
       "        budget                                             genres  \\\n",
       "0     25000000  [{'id': 18, 'name': 'Drama'}, {'id': 80, 'name...   \n",
       "1      6000000  [{'id': 18, 'name': 'Drama'}, {'id': 80, 'name...   \n",
       "2    185000000  [{'id': 18, 'name': 'Drama'}, {'id': 28, 'name...   \n",
       "3     63000000                      [{'id': 18, 'name': 'Drama'}]   \n",
       "4     55000000  [{'id': 35, 'name': 'Comedy'}, {'id': 18, 'nam...   \n",
       "..         ...                                                ...   \n",
       "857   56000000  [{'id': 53, 'name': 'Thriller'}, {'id': 80, 'n...   \n",
       "858   25000000  [{'id': 53, 'name': 'Thriller'}, {'id': 80, 'n...   \n",
       "859   20000000  [{'id': 18, 'name': 'Drama'}, {'id': 9648, 'na...   \n",
       "860   50000000  [{'id': 28, 'name': 'Action'}, {'id': 12, 'nam...   \n",
       "861  130000000  [{'id': 28, 'name': 'Action'}, {'id': 12, 'nam...   \n",
       "\n",
       "                                         homepage      id    imdb_id  \\\n",
       "0                                             NaN     278  tt0111161   \n",
       "1                    http://www.thegodfather.com/     238  tt0068646   \n",
       "2    http://thedarkknight.warnerbros.com/dvdsite/     155  tt0468569   \n",
       "3      http://www.foxmovies.com/movies/fight-club     550  tt0137523   \n",
       "4                                             NaN      13  tt0109830   \n",
       "..                                            ...     ...        ...   \n",
       "857               http://www.brokencitymovie.com/   98357  tt1235522   \n",
       "858               http://www.thegamblermovie.com/  284536  tt2039393   \n",
       "859                   http://darkplacesmovie.com/  182560  tt2402101   \n",
       "860                                           NaN    9208  tt0115759   \n",
       "861                                           NaN    7364  tt0318649   \n",
       "\n",
       "    original_language            original_title  ...       revenue runtime  \\\n",
       "0                  en  The Shawshank Redemption  ...  2.834147e+07   142.0   \n",
       "1                  en             The Godfather  ...  2.450664e+08   175.0   \n",
       "2                  en           The Dark Knight  ...  1.004558e+09   152.0   \n",
       "3                  en                Fight Club  ...  1.008538e+08   139.0   \n",
       "4                  en              Forrest Gump  ...  6.779454e+08   142.0   \n",
       "..                ...                       ...  ...           ...     ...   \n",
       "857                en               Broken City  ...  1.970116e+07   109.0   \n",
       "858                en               The Gambler  ...  3.917113e+07   111.0   \n",
       "859                en               Dark Places  ...  2.085880e+05   113.0   \n",
       "860                en              Broken Arrow  ...  1.502701e+08   108.0   \n",
       "861                en                    Sahara  ...  1.192695e+08   124.0   \n",
       "\n",
       "                                      spoken_languages    status  \\\n",
       "0             [{'iso_639_1': 'en', 'name': 'English'}]  Released   \n",
       "1    [{'iso_639_1': 'en', 'name': 'English'}, {'iso...  Released   \n",
       "2    [{'iso_639_1': 'en', 'name': 'English'}, {'iso...  Released   \n",
       "3             [{'iso_639_1': 'en', 'name': 'English'}]  Released   \n",
       "4             [{'iso_639_1': 'en', 'name': 'English'}]  Released   \n",
       "..                                                 ...       ...   \n",
       "857           [{'iso_639_1': 'en', 'name': 'English'}]  Released   \n",
       "858           [{'iso_639_1': 'en', 'name': 'English'}]  Released   \n",
       "859           [{'iso_639_1': 'en', 'name': 'English'}]  Released   \n",
       "860           [{'iso_639_1': 'en', 'name': 'English'}]  Released   \n",
       "861  [{'iso_639_1': 'en', 'name': 'English'}, {'iso...  Released   \n",
       "\n",
       "                                               tagline  \\\n",
       "0    Fear can hold you prisoner. Hope can set you f...   \n",
       "1                           An offer you can't refuse.   \n",
       "2                                      Why So Serious?   \n",
       "3                              Mischief. Mayhem. Soap.   \n",
       "4    The world will never be the same, once you've ...   \n",
       "..                                                 ...   \n",
       "857                    Proof Can Be a Powerful Weapon.   \n",
       "858                         The only way out is all in   \n",
       "859  In 1985, her entire family was murdered. 30 ye...   \n",
       "860                           Prepare to Go Ballistic.   \n",
       "861               Dirk Pitt. Adventure has a new name.   \n",
       "\n",
       "                        title  video  vote_average vote_count weighted_rate  \n",
       "0    The Shawshank Redemption  False           8.5     8358.0      8.357746  \n",
       "1               The Godfather  False           8.5     6024.0      8.306334  \n",
       "2             The Dark Knight  False           8.3    12269.0      8.208376  \n",
       "3                  Fight Club  False           8.3     9678.0      8.184899  \n",
       "4                Forrest Gump  False           8.2     8147.0      8.069421  \n",
       "..                        ...    ...           ...        ...           ...  \n",
       "857               Broken City  False           5.7      601.0      5.665702  \n",
       "858               The Gambler  False           5.7      550.0      5.663925  \n",
       "859               Dark Places  False           5.7      488.0      5.661499  \n",
       "860              Broken Arrow  False           5.7      459.0      5.660249  \n",
       "861                    Sahara  False           5.7      440.0      5.659384  \n",
       "\n",
       "[862 rows x 26 columns]"
      ]
     },
     "execution_count": 510,
     "metadata": {},
     "output_type": "execute_result"
    }
   ],
   "source": [
    "top_movies[top_movies.genres.str.contains(genre)].reset_index()"
   ]
  },
  {
   "cell_type": "code",
   "execution_count": 511,
   "id": "68098f34-1422-4356-9813-0f9666d9cfd1",
   "metadata": {
    "tags": []
   },
   "outputs": [],
   "source": [
    "genres = genres.append({'id':1,'genre':'All'},ignore_index=True)"
   ]
  },
  {
   "cell_type": "code",
   "execution_count": 512,
   "id": "209ccfe6-e226-41bc-a535-40fd52d7d1ef",
   "metadata": {
    "tags": []
   },
   "outputs": [
    {
     "data": {
      "text/html": [
       "<div>\n",
       "<style scoped>\n",
       "    .dataframe tbody tr th:only-of-type {\n",
       "        vertical-align: middle;\n",
       "    }\n",
       "\n",
       "    .dataframe tbody tr th {\n",
       "        vertical-align: top;\n",
       "    }\n",
       "\n",
       "    .dataframe thead th {\n",
       "        text-align: right;\n",
       "    }\n",
       "</style>\n",
       "<table border=\"1\" class=\"dataframe\">\n",
       "  <thead>\n",
       "    <tr style=\"text-align: right;\">\n",
       "      <th></th>\n",
       "      <th>id</th>\n",
       "      <th>genre</th>\n",
       "    </tr>\n",
       "  </thead>\n",
       "  <tbody>\n",
       "    <tr>\n",
       "      <th>0</th>\n",
       "      <td>16</td>\n",
       "      <td>Animation</td>\n",
       "    </tr>\n",
       "    <tr>\n",
       "      <th>1</th>\n",
       "      <td>35</td>\n",
       "      <td>Comedy</td>\n",
       "    </tr>\n",
       "    <tr>\n",
       "      <th>2</th>\n",
       "      <td>10751</td>\n",
       "      <td>Family</td>\n",
       "    </tr>\n",
       "    <tr>\n",
       "      <th>3</th>\n",
       "      <td>12</td>\n",
       "      <td>Adventure</td>\n",
       "    </tr>\n",
       "    <tr>\n",
       "      <th>4</th>\n",
       "      <td>14</td>\n",
       "      <td>Fantasy</td>\n",
       "    </tr>\n",
       "    <tr>\n",
       "      <th>5</th>\n",
       "      <td>10749</td>\n",
       "      <td>Romance</td>\n",
       "    </tr>\n",
       "    <tr>\n",
       "      <th>6</th>\n",
       "      <td>18</td>\n",
       "      <td>Drama</td>\n",
       "    </tr>\n",
       "    <tr>\n",
       "      <th>7</th>\n",
       "      <td>28</td>\n",
       "      <td>Action</td>\n",
       "    </tr>\n",
       "    <tr>\n",
       "      <th>8</th>\n",
       "      <td>80</td>\n",
       "      <td>Crime</td>\n",
       "    </tr>\n",
       "    <tr>\n",
       "      <th>9</th>\n",
       "      <td>53</td>\n",
       "      <td>Thriller</td>\n",
       "    </tr>\n",
       "    <tr>\n",
       "      <th>10</th>\n",
       "      <td>27</td>\n",
       "      <td>Horror</td>\n",
       "    </tr>\n",
       "    <tr>\n",
       "      <th>11</th>\n",
       "      <td>36</td>\n",
       "      <td>History</td>\n",
       "    </tr>\n",
       "    <tr>\n",
       "      <th>12</th>\n",
       "      <td>878</td>\n",
       "      <td>Science Fiction</td>\n",
       "    </tr>\n",
       "    <tr>\n",
       "      <th>13</th>\n",
       "      <td>9648</td>\n",
       "      <td>Mystery</td>\n",
       "    </tr>\n",
       "    <tr>\n",
       "      <th>14</th>\n",
       "      <td>10752</td>\n",
       "      <td>War</td>\n",
       "    </tr>\n",
       "    <tr>\n",
       "      <th>15</th>\n",
       "      <td>10769</td>\n",
       "      <td>Foreign</td>\n",
       "    </tr>\n",
       "    <tr>\n",
       "      <th>16</th>\n",
       "      <td>10402</td>\n",
       "      <td>Music</td>\n",
       "    </tr>\n",
       "    <tr>\n",
       "      <th>17</th>\n",
       "      <td>99</td>\n",
       "      <td>Documentary</td>\n",
       "    </tr>\n",
       "    <tr>\n",
       "      <th>18</th>\n",
       "      <td>37</td>\n",
       "      <td>Western</td>\n",
       "    </tr>\n",
       "    <tr>\n",
       "      <th>19</th>\n",
       "      <td>10770</td>\n",
       "      <td>TV Movie</td>\n",
       "    </tr>\n",
       "    <tr>\n",
       "      <th>20</th>\n",
       "      <td>1</td>\n",
       "      <td>All</td>\n",
       "    </tr>\n",
       "  </tbody>\n",
       "</table>\n",
       "</div>"
      ],
      "text/plain": [
       "       id            genre\n",
       "0      16        Animation\n",
       "1      35           Comedy\n",
       "2   10751           Family\n",
       "3      12        Adventure\n",
       "4      14          Fantasy\n",
       "5   10749          Romance\n",
       "6      18            Drama\n",
       "7      28           Action\n",
       "8      80            Crime\n",
       "9      53         Thriller\n",
       "10     27           Horror\n",
       "11     36          History\n",
       "12    878  Science Fiction\n",
       "13   9648          Mystery\n",
       "14  10752              War\n",
       "15  10769          Foreign\n",
       "16  10402            Music\n",
       "17     99      Documentary\n",
       "18     37          Western\n",
       "19  10770         TV Movie\n",
       "20      1              All"
      ]
     },
     "execution_count": 512,
     "metadata": {},
     "output_type": "execute_result"
    }
   ],
   "source": [
    "genres"
   ]
  },
  {
   "cell_type": "code",
   "execution_count": 513,
   "id": "bd03f345-f9f4-436c-ab1a-b17747508962",
   "metadata": {},
   "outputs": [],
   "source": [
    "# genres.to_csv('data/genres.csv',index=False)"
   ]
  },
  {
   "cell_type": "markdown",
   "id": "a2ada3f1-9ffb-4827-aee9-b18dab0956da",
   "metadata": {},
   "source": [
    "## Content based recommender"
   ]
  },
  {
   "cell_type": "code",
   "execution_count": 514,
   "id": "d7d99575-6275-4ba8-b23a-783bb5446cc1",
   "metadata": {},
   "outputs": [],
   "source": [
    "from sklearn.feature_extraction.text import TfidfVectorizer\n",
    "from sklearn.metrics.pairwise import linear_kernel"
   ]
  },
  {
   "cell_type": "code",
   "execution_count": 515,
   "id": "b5ebe273-81a1-4a6d-bd84-f62ea52935f3",
   "metadata": {},
   "outputs": [],
   "source": [
    "movies_content = movies_metadata[(movies_metadata.vote_count > 50)].copy()"
   ]
  },
  {
   "cell_type": "code",
   "execution_count": 516,
   "id": "6f961b5e-4ef4-4d93-a2a2-fd4883d2bebb",
   "metadata": {},
   "outputs": [
    {
     "data": {
      "text/plain": [
       "(9048, 24)"
      ]
     },
     "execution_count": 516,
     "metadata": {},
     "output_type": "execute_result"
    }
   ],
   "source": [
    "movies_content.shape"
   ]
  },
  {
   "cell_type": "code",
   "execution_count": 517,
   "id": "eae00112-a78c-4325-946d-36ca83ff44df",
   "metadata": {},
   "outputs": [],
   "source": [
    "movies_content.tagline = movies_content.tagline.fillna('')\n",
    "movies_content.overview = movies_content.overview.fillna('')\n",
    "movies_content['description'] = movies_content.tagline + movies_content.overview"
   ]
  },
  {
   "cell_type": "code",
   "execution_count": 518,
   "id": "168b208b-5af8-4075-a1e8-103a7ae8395c",
   "metadata": {},
   "outputs": [],
   "source": [
    "movies_content = movies_content[['id','title','description']]"
   ]
  },
  {
   "cell_type": "code",
   "execution_count": 37,
   "id": "770bbefa-c69d-49e3-b439-a3291fd581aa",
   "metadata": {},
   "outputs": [],
   "source": [
    "# movies_content.to_csv('data/content_based.csv',index=False)"
   ]
  },
  {
   "cell_type": "code",
   "execution_count": 519,
   "id": "400fb33a-2abb-4411-927e-264c0d7f8cdd",
   "metadata": {},
   "outputs": [],
   "source": [
    "tf = TfidfVectorizer(analyzer='word',ngram_range=(1,2),min_df=0,stop_words='english')\n",
    "tfidf_matrix = tf.fit_transform(movies_content.description)"
   ]
  },
  {
   "cell_type": "code",
   "execution_count": 520,
   "id": "0e052f74-b36b-45da-a82a-dc6cdc011ba7",
   "metadata": {},
   "outputs": [
    {
     "data": {
      "text/plain": [
       "(9048, 256171)"
      ]
     },
     "execution_count": 520,
     "metadata": {},
     "output_type": "execute_result"
    }
   ],
   "source": [
    "tfidf_matrix.shape"
   ]
  },
  {
   "cell_type": "code",
   "execution_count": 521,
   "id": "531f8d86-5371-4fb9-a6dd-4d632bc2ed9e",
   "metadata": {},
   "outputs": [],
   "source": [
    "cos_sim = linear_kernel(tfidf_matrix, tfidf_matrix)"
   ]
  },
  {
   "cell_type": "code",
   "execution_count": 522,
   "id": "43057dc7-7b1d-479e-8076-2e7246b4469e",
   "metadata": {},
   "outputs": [],
   "source": [
    "title_id = pd.Series(movies_metadata.reset_index().index, index=movies_metadata['title'])"
   ]
  },
  {
   "cell_type": "code",
   "execution_count": 523,
   "id": "6a35e949-9b82-4db3-9cd0-4d3bafa3a722",
   "metadata": {
    "tags": []
   },
   "outputs": [
    {
     "data": {
      "text/plain": [
       "1896                           The Goonies\n",
       "3832                            Billy Jack\n",
       "3533                      La Grande Bouffe\n",
       "2569                  Promise Her Anything\n",
       "2818                         El Amor Brujo\n",
       "2719               The Very Thought of You\n",
       "6623                     To Be and to Have\n",
       "693                       Mulholland Falls\n",
       "4493                              Loverboy\n",
       "5273                     Season's Beatings\n",
       "8648                           The Reivers\n",
       "7815                                Fear X\n",
       "5738                    The Quiet American\n",
       "804            The Adventures of Pinocchio\n",
       "1457                           The Turning\n",
       "2420    Escape from the Planet of the Apes\n",
       "2129                          My Bodyguard\n",
       "2058                                 Blade\n",
       "8003                       To End All Wars\n",
       "4587                            Bad Timing\n",
       "3480                            G.I. Blues\n",
       "1349                       In Love and War\n",
       "7229                        I'm Not Scared\n",
       "5816                             25th Hour\n",
       "4532                           Sea of Love\n",
       "216                               The Cure\n",
       "1892                       Lethal Weapon 2\n",
       "4032                            Monkeybone\n",
       "1783                      A Perfect Murder\n",
       "1236                    The Great Dictator\n",
       "Name: title, dtype: object"
      ]
     },
     "execution_count": 523,
     "metadata": {},
     "output_type": "execute_result"
    }
   ],
   "source": [
    "index = title_id['The Lost World: Jurassic Park']\n",
    "sim_scores = list(enumerate(cos_sim[index]))\n",
    "sim_scores = sorted(sim_scores, key=lambda x: x[1], reverse=True)\n",
    "sim_scores = sim_scores[1:31]\n",
    "movie_indices = [i[0] for i in sim_scores]\n",
    "movies_metadata['title'].iloc[movie_indices]"
   ]
  },
  {
   "cell_type": "markdown",
   "id": "cc6bf59c-5f1a-4643-865b-a78fd4d2628d",
   "metadata": {},
   "source": [
    "### Recommendation based on directors, cast, genres and keywords"
   ]
  },
  {
   "cell_type": "code",
   "execution_count": 524,
   "id": "1914eac8-5b28-48e3-bd98-92761bc6a6d7",
   "metadata": {},
   "outputs": [],
   "source": [
    "from ast import literal_eval"
   ]
  },
  {
   "cell_type": "code",
   "execution_count": 525,
   "id": "f7e1e932-41b6-4033-9d27-898eb030f7a6",
   "metadata": {},
   "outputs": [],
   "source": [
    "second_recommender = movies_metadata.merge(credits, on='id')"
   ]
  },
  {
   "cell_type": "code",
   "execution_count": 526,
   "id": "9b6c5de0-0cbd-45c6-abc1-16ac7527de6f",
   "metadata": {},
   "outputs": [],
   "source": [
    "second_recommender = second_recommender.merge(keywords, on='id')"
   ]
  },
  {
   "cell_type": "code",
   "execution_count": 527,
   "id": "73dca490-0a30-417d-be7b-0fe5dd20499b",
   "metadata": {},
   "outputs": [],
   "source": [
    "second_recommender = second_recommender[(second_recommender.vote_count > 50)]"
   ]
  },
  {
   "cell_type": "code",
   "execution_count": 528,
   "id": "7bade3e4-9b4a-436e-a43e-7ab8a9dda61c",
   "metadata": {},
   "outputs": [],
   "source": [
    "second_recommender.cast = second_recommender.cast.apply(literal_eval)"
   ]
  },
  {
   "cell_type": "code",
   "execution_count": 529,
   "id": "4150ffc2-6568-4642-bfbc-9a528e04e39f",
   "metadata": {},
   "outputs": [],
   "source": [
    "second_recommender.crew = second_recommender.crew.apply(literal_eval)"
   ]
  },
  {
   "cell_type": "code",
   "execution_count": 530,
   "id": "89a385ab-1caf-4b22-b53f-b7dddeb14523",
   "metadata": {},
   "outputs": [],
   "source": [
    "second_recommender.keywords = second_recommender['keywords'].apply(literal_eval)"
   ]
  },
  {
   "cell_type": "code",
   "execution_count": 531,
   "id": "3f8a7fb3-8324-4c33-ab27-4da32079cf6f",
   "metadata": {},
   "outputs": [],
   "source": [
    "second_recommender.genres = second_recommender['genres'].apply(literal_eval)"
   ]
  },
  {
   "cell_type": "code",
   "execution_count": 532,
   "id": "81e618c0-bb1b-4622-a432-24692fe23a6a",
   "metadata": {},
   "outputs": [],
   "source": [
    "def get_director(row):\n",
    "    for person in row:\n",
    "        if person['job'] == 'director':\n",
    "            return person['name']\n",
    "    return ''"
   ]
  },
  {
   "cell_type": "code",
   "execution_count": 533,
   "id": "646d2fdd-1ec9-4c13-9ca7-c914cf43a589",
   "metadata": {},
   "outputs": [],
   "source": [
    "second_recommender['director'] = second_recommender.crew.apply(get_director)"
   ]
  },
  {
   "cell_type": "code",
   "execution_count": 534,
   "id": "929eefc3-4d01-4cff-a5f2-34a40ecd7def",
   "metadata": {},
   "outputs": [],
   "source": [
    "def get_cast(row):\n",
    "    temp = []\n",
    "    for person in row:\n",
    "        temp.append(person['name'])\n",
    "    if len(temp) < 3 & len(temp) > 0:\n",
    "        return temp\n",
    "    else:\n",
    "        return temp[:3]\n",
    "    return []"
   ]
  },
  {
   "cell_type": "code",
   "execution_count": 535,
   "id": "9604ca22-c4e3-44c0-9dca-80a8400c0cfa",
   "metadata": {},
   "outputs": [],
   "source": [
    "second_recommender['actors'] = second_recommender.cast.apply(get_cast)"
   ]
  },
  {
   "cell_type": "code",
   "execution_count": 536,
   "id": "cd227d56-c4c5-42bb-89b8-78aa97e4c483",
   "metadata": {
    "tags": []
   },
   "outputs": [],
   "source": [
    "def get_keywords(row):\n",
    "    temp = []\n",
    "    for words in row:\n",
    "        temp.append(words['name'])\n",
    "    return temp"
   ]
  },
  {
   "cell_type": "code",
   "execution_count": 537,
   "id": "ec09e45c-1b59-4636-8688-9cac4ec3980b",
   "metadata": {},
   "outputs": [],
   "source": [
    "second_recommender['keywords'] = second_recommender.keywords.apply(get_keywords)"
   ]
  },
  {
   "cell_type": "code",
   "execution_count": 538,
   "id": "ad71e8f2-7ede-4cb2-b4c2-5d4adc29c5ec",
   "metadata": {},
   "outputs": [],
   "source": [
    "def get_genres(row):\n",
    "    temp = []\n",
    "    for genre in row:\n",
    "        temp.append(genre['name'])\n",
    "    return temp"
   ]
  },
  {
   "cell_type": "code",
   "execution_count": 539,
   "id": "65551609-b4ab-4064-868f-32d0a2669a56",
   "metadata": {},
   "outputs": [],
   "source": [
    "second_recommender['genres'] = second_recommender.genres.apply(get_genres)"
   ]
  },
  {
   "cell_type": "code",
   "execution_count": 540,
   "id": "a8025f6f-127d-41a9-aea9-6e10f44a4ad9",
   "metadata": {},
   "outputs": [],
   "source": [
    "second_recommender = second_recommender[['id','title','imdb_id','genres','keywords','director','actors','vote_average','vote_count']].copy()"
   ]
  },
  {
   "cell_type": "code",
   "execution_count": 541,
   "id": "8f8cc8bf-e356-42c4-88be-d83dc4f0ac48",
   "metadata": {},
   "outputs": [],
   "source": [
    "second_recommender.actors = second_recommender.actors.apply(lambda x : [str.lower(i.replace(' ','')) for i in x] )"
   ]
  },
  {
   "cell_type": "code",
   "execution_count": 542,
   "id": "5880f142-d440-47a3-ad7a-a7e9b2ca50a1",
   "metadata": {},
   "outputs": [],
   "source": [
    "second_recommender.director = second_recommender.director.astype('str').apply(lambda x : str.lower(x.replace(' ','')))"
   ]
  },
  {
   "cell_type": "code",
   "execution_count": 543,
   "id": "1b4fe0c6-6426-489e-8a87-e46bfe919f05",
   "metadata": {},
   "outputs": [],
   "source": [
    "second_recommender.director = second_recommender.director.apply(lambda x: [x,x])"
   ]
  },
  {
   "cell_type": "code",
   "execution_count": 544,
   "id": "7967188e-3380-4e65-a03e-d167fc5f8a3d",
   "metadata": {},
   "outputs": [],
   "source": [
    "counting = second_recommender.apply( lambda x : pd.Series(x.keywords,dtype='object'),axis=1).stack().reset_index(level=1, drop=True)"
   ]
  },
  {
   "cell_type": "code",
   "execution_count": 545,
   "id": "f02221bf-1d83-4f77-a95c-338585652ffd",
   "metadata": {},
   "outputs": [],
   "source": [
    "counting.name = 'keyword'"
   ]
  },
  {
   "cell_type": "code",
   "execution_count": 546,
   "id": "f27a0bd1-442d-4ab7-ae21-82452974bde6",
   "metadata": {},
   "outputs": [],
   "source": [
    "counting = counting.value_counts()"
   ]
  },
  {
   "cell_type": "code",
   "execution_count": 547,
   "id": "b8c42e32-e73f-4709-9004-6bb8a9e125c7",
   "metadata": {},
   "outputs": [],
   "source": [
    "counting = counting[counting > 1]"
   ]
  },
  {
   "cell_type": "code",
   "execution_count": 548,
   "id": "496931d6-2ef8-4a58-a449-e57f7c5ecb99",
   "metadata": {},
   "outputs": [],
   "source": [
    "import snowballstemmer"
   ]
  },
  {
   "cell_type": "code",
   "execution_count": 549,
   "id": "d971c836-a0ed-48a6-997b-3930ddbd9484",
   "metadata": {},
   "outputs": [],
   "source": [
    "stemmer = snowballstemmer.stemmer('english');"
   ]
  },
  {
   "cell_type": "code",
   "execution_count": 550,
   "id": "b8bcee7c-5925-4314-83b8-003b126eafc8",
   "metadata": {},
   "outputs": [],
   "source": [
    "def filter_keywords(x):\n",
    "    words = []\n",
    "    for i in x:\n",
    "        if i in counting:\n",
    "            words.append(i)\n",
    "    return words"
   ]
  },
  {
   "cell_type": "code",
   "execution_count": 551,
   "id": "b5537e49-f38b-4cc6-a82d-42e29547ebd5",
   "metadata": {},
   "outputs": [],
   "source": [
    "second_recommender['keywords'] = second_recommender['keywords'].apply(filter_keywords)"
   ]
  },
  {
   "cell_type": "code",
   "execution_count": 552,
   "id": "2a7cd575-018a-4dd1-9536-9792cea8a3c3",
   "metadata": {},
   "outputs": [],
   "source": [
    "second_recommender['keywords'] = second_recommender['keywords'].apply(lambda x: [stemmer.stemWord(word) for word in stemmer.stemWords(x)])"
   ]
  },
  {
   "cell_type": "code",
   "execution_count": 553,
   "id": "fbff359f-8198-4a27-b576-bd4ab801b773",
   "metadata": {},
   "outputs": [],
   "source": [
    "second_recommender['keywords'] = second_recommender['keywords'].apply(lambda x: [str.lower(i.replace(\" \", \"\")) for i in x])"
   ]
  },
  {
   "cell_type": "code",
   "execution_count": 554,
   "id": "f180cfa2-03b0-4885-b802-b4054aa7b775",
   "metadata": {},
   "outputs": [],
   "source": [
    "second_recommender['soup'] = second_recommender['keywords']+second_recommender['actors']+second_recommender['director']+second_recommender['genres']"
   ]
  },
  {
   "cell_type": "code",
   "execution_count": 555,
   "id": "8fd5087c-1a56-401d-9e1c-753659867919",
   "metadata": {},
   "outputs": [],
   "source": [
    "second_recommender['soup'] = second_recommender['soup'].apply(lambda x: ' '.join(x))"
   ]
  },
  {
   "cell_type": "code",
   "execution_count": 556,
   "id": "befadc08-c9bb-46b1-8ee3-77f7f169629a",
   "metadata": {},
   "outputs": [],
   "source": [
    "second_recommender = second_recommender.merge(movies_content.drop('title',axis=1), on='id')"
   ]
  },
  {
   "cell_type": "code",
   "execution_count": null,
   "id": "de887f7b-e8b1-480c-9ca0-fb3c86ecac62",
   "metadata": {},
   "outputs": [],
   "source": []
  },
  {
   "cell_type": "code",
   "execution_count": 557,
   "id": "4f31ebe1-a9bb-423f-991e-2aea386afe6c",
   "metadata": {
    "tags": []
   },
   "outputs": [],
   "source": [
    "second_recommender = second_recommender.assign( weighted_rate = lambda x: (x['vote_count'] / (x['vote_count'] + m) * x['vote_average']) + (m / (x['vote_count'] + m) * C))"
   ]
  },
  {
   "cell_type": "code",
   "execution_count": 558,
   "id": "18a8dec1-008d-43ed-aecb-4e50eea092da",
   "metadata": {},
   "outputs": [],
   "source": [
    "# second_recommender.to_csv('data/second_recommender.csv',index=False)"
   ]
  },
  {
   "cell_type": "code",
   "execution_count": 559,
   "id": "d55fa9b9-cfb4-4e1f-9348-cd52ab49c094",
   "metadata": {},
   "outputs": [],
   "source": [
    "from sklearn.feature_extraction.text import CountVectorizer\n",
    "from sklearn.metrics.pairwise import cosine_similarity"
   ]
  },
  {
   "cell_type": "code",
   "execution_count": 560,
   "id": "d6ed2883-e4d5-4b1b-a319-52506942f7fb",
   "metadata": {},
   "outputs": [],
   "source": [
    "count = CountVectorizer(analyzer='word',ngram_range=(1, 2),min_df=0, stop_words='english')\n",
    "count_matrix = count.fit_transform(second_recommender['soup'])"
   ]
  },
  {
   "cell_type": "code",
   "execution_count": 561,
   "id": "222cf960-38bc-4277-89fa-6f5492ed06a6",
   "metadata": {},
   "outputs": [],
   "source": [
    "cosine_sim_second = cosine_similarity(count_matrix, count_matrix)"
   ]
  },
  {
   "cell_type": "code",
   "execution_count": 562,
   "id": "70eb9ddd-e3f8-469e-9805-27e703da4319",
   "metadata": {},
   "outputs": [
    {
     "data": {
      "text/plain": [
       "(9251, 9251)"
      ]
     },
     "execution_count": 562,
     "metadata": {},
     "output_type": "execute_result"
    }
   ],
   "source": [
    "cosine_sim_second.shape"
   ]
  },
  {
   "cell_type": "code",
   "execution_count": 563,
   "id": "9c64c006-df7c-4a76-a75c-17b3ce6aca6b",
   "metadata": {},
   "outputs": [],
   "source": [
    "title_id = pd.Series(second_recommender.reset_index().index, index=second_recommender['title'])"
   ]
  },
  {
   "cell_type": "code",
   "execution_count": 564,
   "id": "d9b26e65-2f84-42f6-9e1a-9b6b7aca6ca0",
   "metadata": {
    "tags": []
   },
   "outputs": [
    {
     "data": {
      "text/plain": [
       "6957          Reasonable Doubt\n",
       "4762                   Cleaner\n",
       "6163              Meeting Evil\n",
       "7840                The Forger\n",
       "2879                     Basic\n",
       "2969                  S.W.A.T.\n",
       "140              Kiss of Death\n",
       "3261                   Twisted\n",
       "2700            The 51st State\n",
       "5781        The Sunset Limited\n",
       "4954                The Spirit\n",
       "4191               Freedomland\n",
       "2540            Changing Lanes\n",
       "6132                     Arena\n",
       "241                      Fresh\n",
       "1868                     Shaft\n",
       "4292         Snakes on a Plane\n",
       "6169                  The Raid\n",
       "6506             The Samaritan\n",
       "6911                    Oldboy\n",
       "3291                     Shade\n",
       "4620    Resurrecting the Champ\n",
       "4719                     Awake\n",
       "5580            Animal Kingdom\n",
       "5818                Easy Money\n",
       "6006         The Son of No One\n",
       "6259                 Cleanskin\n",
       "6330                Compliance\n",
       "7081                Blood Ties\n",
       "7412                 In Secret\n",
       "Name: title, dtype: object"
      ]
     },
     "execution_count": 564,
     "metadata": {},
     "output_type": "execute_result"
    }
   ],
   "source": [
    "index = title_id['Pulp Fiction']\n",
    "sim_scores = list(enumerate(cosine_sim_second[index]))\n",
    "sim_scores = sorted(sim_scores, key=lambda x: x[1], reverse=True)\n",
    "sim_scores = sim_scores[1:31]\n",
    "movie_indices = [i[0] for i in sim_scores]\n",
    "second_recommender['title'].iloc[movie_indices]"
   ]
  },
  {
   "cell_type": "code",
   "execution_count": 565,
   "id": "6a74af5b-9575-4127-b722-cc9fb1bc3069",
   "metadata": {},
   "outputs": [],
   "source": [
    "content_based_movies = second_recommender.iloc[movie_indices]"
   ]
  },
  {
   "cell_type": "code",
   "execution_count": 566,
   "id": "0f049f91-b327-430f-972b-5e6af6682fca",
   "metadata": {
    "collapsed": true,
    "jupyter": {
     "outputs_hidden": true
    },
    "tags": []
   },
   "outputs": [
    {
     "ename": "TypeError",
     "evalue": "'PrefetchDataset' object is not subscriptable",
     "output_type": "error",
     "traceback": [
      "\u001b[1;31m---------------------------------------------------------------------------\u001b[0m",
      "\u001b[1;31mTypeError\u001b[0m                                 Traceback (most recent call last)",
      "\u001b[1;32m~\\AppData\\Local\\Temp/ipykernel_9840/2752651072.py\u001b[0m in \u001b[0;36m<module>\u001b[1;34m\u001b[0m\n\u001b[0;32m      3\u001b[0m \u001b[0mC\u001b[0m \u001b[1;33m=\u001b[0m \u001b[0mvote_averages\u001b[0m\u001b[1;33m.\u001b[0m\u001b[0mmean\u001b[0m\u001b[1;33m(\u001b[0m\u001b[1;33m)\u001b[0m\u001b[1;33m\u001b[0m\u001b[1;33m\u001b[0m\u001b[0m\n\u001b[0;32m      4\u001b[0m \u001b[0mm\u001b[0m \u001b[1;33m=\u001b[0m \u001b[0mvote_counts\u001b[0m\u001b[1;33m.\u001b[0m\u001b[0mquantile\u001b[0m\u001b[1;33m(\u001b[0m\u001b[1;36m0.60\u001b[0m\u001b[1;33m)\u001b[0m\u001b[1;33m\u001b[0m\u001b[1;33m\u001b[0m\u001b[0m\n\u001b[1;32m----> 5\u001b[1;33m \u001b[0mqualified\u001b[0m \u001b[1;33m=\u001b[0m \u001b[0mmovies\u001b[0m\u001b[1;33m[\u001b[0m\u001b[1;33m(\u001b[0m\u001b[0mmovies\u001b[0m\u001b[1;33m[\u001b[0m\u001b[1;34m'vote_count'\u001b[0m\u001b[1;33m]\u001b[0m \u001b[1;33m>=\u001b[0m \u001b[0mm\u001b[0m\u001b[1;33m)\u001b[0m \u001b[1;33m&\u001b[0m \u001b[1;33m(\u001b[0m\u001b[0mmovies\u001b[0m\u001b[1;33m[\u001b[0m\u001b[1;34m'vote_count'\u001b[0m\u001b[1;33m]\u001b[0m\u001b[1;33m.\u001b[0m\u001b[0mnotnull\u001b[0m\u001b[1;33m(\u001b[0m\u001b[1;33m)\u001b[0m\u001b[1;33m)\u001b[0m \u001b[1;33m&\u001b[0m \u001b[1;33m(\u001b[0m\u001b[0mmovies\u001b[0m\u001b[1;33m[\u001b[0m\u001b[1;34m'vote_average'\u001b[0m\u001b[1;33m]\u001b[0m\u001b[1;33m.\u001b[0m\u001b[0mnotnull\u001b[0m\u001b[1;33m(\u001b[0m\u001b[1;33m)\u001b[0m\u001b[1;33m)\u001b[0m\u001b[1;33m]\u001b[0m\u001b[1;33m\u001b[0m\u001b[1;33m\u001b[0m\u001b[0m\n\u001b[0m\u001b[0;32m      6\u001b[0m \u001b[0mqualified\u001b[0m\u001b[1;33m[\u001b[0m\u001b[1;34m'vote_count'\u001b[0m\u001b[1;33m]\u001b[0m \u001b[1;33m=\u001b[0m \u001b[0mqualified\u001b[0m\u001b[1;33m[\u001b[0m\u001b[1;34m'vote_count'\u001b[0m\u001b[1;33m]\u001b[0m\u001b[1;33m.\u001b[0m\u001b[0mastype\u001b[0m\u001b[1;33m(\u001b[0m\u001b[1;34m'int'\u001b[0m\u001b[1;33m)\u001b[0m\u001b[1;33m\u001b[0m\u001b[1;33m\u001b[0m\u001b[0m\n\u001b[0;32m      7\u001b[0m \u001b[0mqualified\u001b[0m\u001b[1;33m[\u001b[0m\u001b[1;34m'vote_average'\u001b[0m\u001b[1;33m]\u001b[0m \u001b[1;33m=\u001b[0m \u001b[0mqualified\u001b[0m\u001b[1;33m[\u001b[0m\u001b[1;34m'vote_average'\u001b[0m\u001b[1;33m]\u001b[0m\u001b[1;33m.\u001b[0m\u001b[0mastype\u001b[0m\u001b[1;33m(\u001b[0m\u001b[1;34m'int'\u001b[0m\u001b[1;33m)\u001b[0m\u001b[1;33m\u001b[0m\u001b[1;33m\u001b[0m\u001b[0m\n",
      "\u001b[1;31mTypeError\u001b[0m: 'PrefetchDataset' object is not subscriptable"
     ]
    }
   ],
   "source": [
    "vote_counts = content_based_movies[content_based_movies['vote_count'].notnull()]['vote_count'].astype('int')\n",
    "vote_averages = content_based_movies[content_based_movies['vote_average'].notnull()]['vote_average'].astype('int')\n",
    "C = vote_averages.mean()\n",
    "m = vote_counts.quantile(0.60)\n",
    "qualified = movies[(movies['vote_count'] >= m) & (movies['vote_count'].notnull()) & (movies['vote_average'].notnull())]\n",
    "qualified['vote_count'] = qualified['vote_count'].astype('int')\n",
    "qualified['vote_average'] = qualified['vote_average'].astype('int')\n",
    "qualified['wr'] = qualified.apply(weighted_rating, axis=1)\n",
    "qualified = qualified.sort_values('wr', ascending=False).head(10)"
   ]
  },
  {
   "cell_type": "markdown",
   "id": "893176b4-9095-4937-922d-836e5a15c7cc",
   "metadata": {},
   "source": [
    "### User based recommendation"
   ]
  },
  {
   "cell_type": "code",
   "execution_count": 567,
   "id": "f682e0fc-e8c1-42a2-a1c3-3378a332219b",
   "metadata": {},
   "outputs": [],
   "source": [
    "from surprise import SVD\n",
    "\n",
    "from surprise import Dataset\n",
    "from surprise.model_selection import cross_validate\n",
    "from surprise import Reader\n",
    "from surprise.model_selection import KFold\n",
    "from surprise import accuracy\n",
    "from surprise.model_selection import cross_validate\n",
    "from surprise import KNNWithZScore\n",
    "from surprise import SVDpp\n",
    "from collections import defaultdict\n",
    "\n",
    "import pickle"
   ]
  },
  {
   "cell_type": "code",
   "execution_count": 568,
   "id": "da17651a-05ec-4ae5-bd48-fb916fe2ab4e",
   "metadata": {},
   "outputs": [],
   "source": [
    "reader= Reader()"
   ]
  },
  {
   "cell_type": "code",
   "execution_count": 569,
   "id": "e279ff40-3fa3-48e8-ad65-0210147f881d",
   "metadata": {},
   "outputs": [],
   "source": [
    "ratings = pd.read_csv('data/ratings_small.csv')"
   ]
  },
  {
   "cell_type": "code",
   "execution_count": 570,
   "id": "5f086a2e-21b8-4315-a168-4c09fdbf1045",
   "metadata": {},
   "outputs": [],
   "source": [
    "rating_movies = ratings.merge(movies_metadata, left_on='movieId', right_on='id')"
   ]
  },
  {
   "cell_type": "code",
   "execution_count": 571,
   "id": "38be992b-7263-45e5-87f7-1ec0487c33df",
   "metadata": {},
   "outputs": [],
   "source": [
    "rating_movies = rating_movies[['movieId','userId','rating','title','imdb_id']]"
   ]
  },
  {
   "cell_type": "code",
   "execution_count": 573,
   "id": "c5791de1-8a09-4e8e-829e-ae713ca722fc",
   "metadata": {},
   "outputs": [],
   "source": [
    "\n",
    "# rating_movies.to_csv('data/rating_movies.csv',index=False)"
   ]
  },
  {
   "cell_type": "code",
   "execution_count": 330,
   "id": "4a747f7c-570a-4c27-a6dc-8cdffa908e20",
   "metadata": {},
   "outputs": [],
   "source": [
    "# data2 = Dataset.load_builtin('ml-100k')"
   ]
  },
  {
   "cell_type": "code",
   "execution_count": 574,
   "id": "24490148-c747-49d7-a167-4b7ecd356754",
   "metadata": {},
   "outputs": [],
   "source": [
    "data = Dataset.load_from_df(rating_movies[['userId','movieId','rating']],reader)"
   ]
  },
  {
   "cell_type": "code",
   "execution_count": 575,
   "id": "ca55e7cb-0f58-4861-a26b-a7e33fcfc42b",
   "metadata": {},
   "outputs": [],
   "source": [
    "trainset = data.build_full_trainset()"
   ]
  },
  {
   "cell_type": "code",
   "execution_count": 576,
   "id": "80b63329-81e2-4076-acba-3ba7f9c32697",
   "metadata": {},
   "outputs": [
    {
     "data": {
      "text/plain": [
       "range(0, 671)"
      ]
     },
     "execution_count": 576,
     "metadata": {},
     "output_type": "execute_result"
    }
   ],
   "source": [
    "trainset.all_users()"
   ]
  },
  {
   "cell_type": "code",
   "execution_count": 577,
   "id": "72265b02-cb1a-4dc0-bac0-058171ca411c",
   "metadata": {},
   "outputs": [],
   "source": [
    "testset= trainset.build_anti_testset()"
   ]
  },
  {
   "cell_type": "code",
   "execution_count": 354,
   "id": "28d1ad83-ae2f-4726-bd6e-81be157f0dc0",
   "metadata": {},
   "outputs": [],
   "source": [
    "kf = KFold(n_splits=5)"
   ]
  },
  {
   "cell_type": "markdown",
   "id": "1ab4bdd8-a8e8-4e26-8906-83e71a69ab8e",
   "metadata": {},
   "source": [
    "#### SVD model"
   ]
  },
  {
   "cell_type": "code",
   "execution_count": 578,
   "id": "59ce36ac-ec57-464a-8fd9-704ffb112160",
   "metadata": {},
   "outputs": [],
   "source": [
    "svd = SVD()"
   ]
  },
  {
   "cell_type": "code",
   "execution_count": 356,
   "id": "8c594d6f-a198-48c4-b130-9ea0dd629846",
   "metadata": {
    "tags": []
   },
   "outputs": [
    {
     "name": "stdout",
     "output_type": "stream",
     "text": [
      "Evaluating RMSE, MAE of algorithm SVD on 5 split(s).\n",
      "\n",
      "                  Fold 1  Fold 2  Fold 3  Fold 4  Fold 5  Mean    Std     \n",
      "RMSE (testset)    0.9085  0.8920  0.9005  0.8946  0.8919  0.8975  0.0063  \n",
      "MAE (testset)     0.7006  0.6842  0.6977  0.6896  0.6877  0.6920  0.0062  \n",
      "Fit time          1.62    1.62    1.58    1.57    1.58    1.60    0.02    \n",
      "Test time         0.06    0.05    0.05    0.05    0.05    0.05    0.00    \n",
      "Evaluating RMSE, MAE of algorithm SVD on 5 split(s).\n",
      "\n",
      "                  Fold 1  Fold 2  Fold 3  Fold 4  Fold 5  Mean    Std     \n",
      "RMSE (testset)    0.8973  0.9014  0.9052  0.8996  0.8869  0.8981  0.0062  \n",
      "MAE (testset)     0.6951  0.6891  0.6957  0.6947  0.6849  0.6919  0.0043  \n",
      "Fit time          1.61    1.61    1.64    1.62    1.64    1.62    0.01    \n",
      "Test time         0.05    0.05    0.05    0.05    0.05    0.05    0.00    \n",
      "Evaluating RMSE, MAE of algorithm SVD on 5 split(s).\n",
      "\n",
      "                  Fold 1  Fold 2  Fold 3  Fold 4  Fold 5  Mean    Std     \n",
      "RMSE (testset)    0.8940  0.8947  0.8857  0.9036  0.9056  0.8967  0.0072  \n",
      "MAE (testset)     0.6917  0.6892  0.6843  0.6957  0.6996  0.6921  0.0053  \n",
      "Fit time          1.69    1.67    1.70    1.68    1.64    1.67    0.02    \n",
      "Test time         0.05    0.05    0.05    0.05    0.05    0.05    0.00    \n",
      "Evaluating RMSE, MAE of algorithm SVD on 5 split(s).\n",
      "\n",
      "                  Fold 1  Fold 2  Fold 3  Fold 4  Fold 5  Mean    Std     \n",
      "RMSE (testset)    0.9048  0.8995  0.8853  0.8990  0.9131  0.9003  0.0091  \n",
      "MAE (testset)     0.6954  0.6925  0.6832  0.6956  0.7003  0.6934  0.0057  \n",
      "Fit time          1.69    1.70    1.64    1.67    1.68    1.68    0.02    \n",
      "Test time         0.05    0.05    0.05    0.05    0.05    0.05    0.00    \n",
      "Evaluating RMSE, MAE of algorithm SVD on 5 split(s).\n",
      "\n",
      "                  Fold 1  Fold 2  Fold 3  Fold 4  Fold 5  Mean    Std     \n",
      "RMSE (testset)    0.9017  0.8996  0.8876  0.9036  0.8977  0.8981  0.0056  \n",
      "MAE (testset)     0.6977  0.6906  0.6858  0.6943  0.6948  0.6926  0.0041  \n",
      "Fit time          1.67    1.70    1.68    1.65    1.68    1.68    0.02    \n",
      "Test time         0.05    0.05    0.05    0.05    0.05    0.05    0.00    \n"
     ]
    }
   ],
   "source": [
    "for trainset, testset in kf.split(data):\n",
    "\n",
    "    # train and test algorithm.\n",
    "    # algo.fit(trainset)\n",
    "    # predictions = algo.test(testset)\n",
    "\n",
    "    # evalu\n",
    "    # Compute and print Root Mean Squared Error\n",
    "    cross_validate(algo, data, measures=['RMSE', 'MAE'], cv=5, verbose=True)"
   ]
  },
  {
   "cell_type": "code",
   "execution_count": 579,
   "id": "46a37ef4-5731-4e08-b214-6396355639ca",
   "metadata": {},
   "outputs": [
    {
     "data": {
      "text/plain": [
       "<surprise.prediction_algorithms.matrix_factorization.SVD at 0x1a9cf2305b0>"
      ]
     },
     "execution_count": 579,
     "metadata": {},
     "output_type": "execute_result"
    }
   ],
   "source": [
    "svd.fit(trainset)"
   ]
  },
  {
   "cell_type": "code",
   "execution_count": 580,
   "id": "cb70737b-458d-487b-82c7-0a4f3e3187ed",
   "metadata": {},
   "outputs": [],
   "source": [
    "predictions = svd.test(testset)"
   ]
  },
  {
   "cell_type": "code",
   "execution_count": 581,
   "id": "ec84f9b6-afbe-47ce-b1f3-87eb0c558e52",
   "metadata": {},
   "outputs": [],
   "source": [
    "def get_top_n(predictions, n=10):\n",
    "    top_n = defaultdict(list)\n",
    "    for uid, iid, true_r, est, _ in predictions:\n",
    "        top_n[uid].append((iid, est))\n",
    "\n",
    "    for uid, user_ratings in top_n.items():\n",
    "        user_ratings.sort(key=lambda x: x[1], reverse=True)\n",
    "        top_n[uid] = user_ratings[:n]\n",
    "\n",
    "    return top_n"
   ]
  },
  {
   "cell_type": "code",
   "execution_count": 582,
   "id": "cfb18e07-4203-4478-a49b-8213872e7390",
   "metadata": {
    "tags": []
   },
   "outputs": [],
   "source": [
    "predict_dict = get_top_n(predictions, 10)"
   ]
  },
  {
   "cell_type": "code",
   "execution_count": 583,
   "id": "292806b8-c576-42d5-b8e9-e5af28edf79d",
   "metadata": {},
   "outputs": [],
   "source": [
    "df = pd.DataFrame(predict_dict.items(), columns=['userId', 'est_score'])"
   ]
  },
  {
   "cell_type": "code",
   "execution_count": 584,
   "id": "7507d0ac-1e35-4f61-8484-2d2b04528806",
   "metadata": {},
   "outputs": [
    {
     "data": {
      "text/plain": [
       "[(926, 4.434532875640757),\n",
       " (4993, 4.389941958381524),\n",
       " (1945, 4.320445596477555),\n",
       " (899, 4.308855618499059),\n",
       " (745, 4.273776972753286),\n",
       " (58559, 4.237801607827927),\n",
       " (905, 4.223007953239048),\n",
       " (4226, 4.200383305300917),\n",
       " (3022, 4.185907152415912),\n",
       " (994, 4.165085694682377)]"
      ]
     },
     "execution_count": 584,
     "metadata": {},
     "output_type": "execute_result"
    }
   ],
   "source": [
    "df.est_score[3]"
   ]
  },
  {
   "cell_type": "code",
   "execution_count": 585,
   "id": "3aa025f9-8064-4498-9783-a0b7a5d1c318",
   "metadata": {},
   "outputs": [],
   "source": [
    "user_ratings = pd.DataFrame (df.est_score[1], columns = ['movieId','est_score'])"
   ]
  },
  {
   "cell_type": "code",
   "execution_count": 586,
   "id": "f5ad89f8-6c20-4724-ba11-b67094ba89a0",
   "metadata": {},
   "outputs": [
    {
     "data": {
      "text/html": [
       "<div>\n",
       "<style scoped>\n",
       "    .dataframe tbody tr th:only-of-type {\n",
       "        vertical-align: middle;\n",
       "    }\n",
       "\n",
       "    .dataframe tbody tr th {\n",
       "        vertical-align: top;\n",
       "    }\n",
       "\n",
       "    .dataframe thead th {\n",
       "        text-align: right;\n",
       "    }\n",
       "</style>\n",
       "<table border=\"1\" class=\"dataframe\">\n",
       "  <thead>\n",
       "    <tr style=\"text-align: right;\">\n",
       "      <th></th>\n",
       "      <th>movieId</th>\n",
       "      <th>est_score</th>\n",
       "    </tr>\n",
       "  </thead>\n",
       "  <tbody>\n",
       "    <tr>\n",
       "      <th>0</th>\n",
       "      <td>318</td>\n",
       "      <td>5</td>\n",
       "    </tr>\n",
       "    <tr>\n",
       "      <th>1</th>\n",
       "      <td>5995</td>\n",
       "      <td>5</td>\n",
       "    </tr>\n",
       "    <tr>\n",
       "      <th>2</th>\n",
       "      <td>2019</td>\n",
       "      <td>5</td>\n",
       "    </tr>\n",
       "    <tr>\n",
       "      <th>3</th>\n",
       "      <td>4226</td>\n",
       "      <td>5</td>\n",
       "    </tr>\n",
       "    <tr>\n",
       "      <th>4</th>\n",
       "      <td>608</td>\n",
       "      <td>5</td>\n",
       "    </tr>\n",
       "    <tr>\n",
       "      <th>5</th>\n",
       "      <td>923</td>\n",
       "      <td>5</td>\n",
       "    </tr>\n",
       "    <tr>\n",
       "      <th>6</th>\n",
       "      <td>246</td>\n",
       "      <td>5</td>\n",
       "    </tr>\n",
       "    <tr>\n",
       "      <th>7</th>\n",
       "      <td>899</td>\n",
       "      <td>5</td>\n",
       "    </tr>\n",
       "    <tr>\n",
       "      <th>8</th>\n",
       "      <td>922</td>\n",
       "      <td>5</td>\n",
       "    </tr>\n",
       "    <tr>\n",
       "      <th>9</th>\n",
       "      <td>953</td>\n",
       "      <td>5</td>\n",
       "    </tr>\n",
       "  </tbody>\n",
       "</table>\n",
       "</div>"
      ],
      "text/plain": [
       "   movieId  est_score\n",
       "0      318          5\n",
       "1     5995          5\n",
       "2     2019          5\n",
       "3     4226          5\n",
       "4      608          5\n",
       "5      923          5\n",
       "6      246          5\n",
       "7      899          5\n",
       "8      922          5\n",
       "9      953          5"
      ]
     },
     "execution_count": 586,
     "metadata": {},
     "output_type": "execute_result"
    }
   ],
   "source": [
    "user_ratings"
   ]
  },
  {
   "cell_type": "code",
   "execution_count": 587,
   "id": "38b0052a-5b36-4329-b399-8ae0602053ad",
   "metadata": {},
   "outputs": [
    {
     "data": {
      "text/html": [
       "<div>\n",
       "<style scoped>\n",
       "    .dataframe tbody tr th:only-of-type {\n",
       "        vertical-align: middle;\n",
       "    }\n",
       "\n",
       "    .dataframe tbody tr th {\n",
       "        vertical-align: top;\n",
       "    }\n",
       "\n",
       "    .dataframe thead th {\n",
       "        text-align: right;\n",
       "    }\n",
       "</style>\n",
       "<table border=\"1\" class=\"dataframe\">\n",
       "  <thead>\n",
       "    <tr style=\"text-align: right;\">\n",
       "      <th></th>\n",
       "      <th>movieId</th>\n",
       "      <th>est_score</th>\n",
       "      <th>userId</th>\n",
       "      <th>rating</th>\n",
       "      <th>title</th>\n",
       "      <th>imdb_id</th>\n",
       "    </tr>\n",
       "  </thead>\n",
       "  <tbody>\n",
       "    <tr>\n",
       "      <th>0</th>\n",
       "      <td>318</td>\n",
       "      <td>5</td>\n",
       "      <td>3</td>\n",
       "      <td>5.0</td>\n",
       "      <td>The Million Dollar Hotel</td>\n",
       "      <td>tt0120753</td>\n",
       "    </tr>\n",
       "    <tr>\n",
       "      <th>311</th>\n",
       "      <td>5995</td>\n",
       "      <td>5</td>\n",
       "      <td>5</td>\n",
       "      <td>4.0</td>\n",
       "      <td>Miffo</td>\n",
       "      <td>tt0342771</td>\n",
       "    </tr>\n",
       "    <tr>\n",
       "      <th>372</th>\n",
       "      <td>2019</td>\n",
       "      <td>5</td>\n",
       "      <td>6</td>\n",
       "      <td>4.0</td>\n",
       "      <td>Hard Target</td>\n",
       "      <td>tt0107076</td>\n",
       "    </tr>\n",
       "    <tr>\n",
       "      <th>426</th>\n",
       "      <td>4226</td>\n",
       "      <td>5</td>\n",
       "      <td>8</td>\n",
       "      <td>5.0</td>\n",
       "      <td>Shriek If You Know What I Did Last Friday the ...</td>\n",
       "      <td>tt0212235</td>\n",
       "    </tr>\n",
       "    <tr>\n",
       "      <th>558</th>\n",
       "      <td>608</td>\n",
       "      <td>5</td>\n",
       "      <td>9</td>\n",
       "      <td>5.0</td>\n",
       "      <td>Men in Black II</td>\n",
       "      <td>tt0120912</td>\n",
       "    </tr>\n",
       "    <tr>\n",
       "      <th>782</th>\n",
       "      <td>923</td>\n",
       "      <td>5</td>\n",
       "      <td>11</td>\n",
       "      <td>5.0</td>\n",
       "      <td>Dawn of the Dead</td>\n",
       "      <td>tt0077402</td>\n",
       "    </tr>\n",
       "    <tr>\n",
       "      <th>867</th>\n",
       "      <td>246</td>\n",
       "      <td>5</td>\n",
       "      <td>15</td>\n",
       "      <td>5.0</td>\n",
       "      <td>Zatoichi</td>\n",
       "      <td>tt0363226</td>\n",
       "    </tr>\n",
       "    <tr>\n",
       "      <th>928</th>\n",
       "      <td>899</td>\n",
       "      <td>5</td>\n",
       "      <td>15</td>\n",
       "      <td>5.0</td>\n",
       "      <td>Broken Blossoms</td>\n",
       "      <td>tt0009968</td>\n",
       "    </tr>\n",
       "    <tr>\n",
       "      <th>992</th>\n",
       "      <td>922</td>\n",
       "      <td>5</td>\n",
       "      <td>15</td>\n",
       "      <td>1.0</td>\n",
       "      <td>Dead Man</td>\n",
       "      <td>tt0112817</td>\n",
       "    </tr>\n",
       "    <tr>\n",
       "      <th>1031</th>\n",
       "      <td>953</td>\n",
       "      <td>5</td>\n",
       "      <td>15</td>\n",
       "      <td>3.0</td>\n",
       "      <td>Madagascar</td>\n",
       "      <td>tt0351283</td>\n",
       "    </tr>\n",
       "  </tbody>\n",
       "</table>\n",
       "</div>"
      ],
      "text/plain": [
       "      movieId  est_score  userId  rating  \\\n",
       "0         318          5       3     5.0   \n",
       "311      5995          5       5     4.0   \n",
       "372      2019          5       6     4.0   \n",
       "426      4226          5       8     5.0   \n",
       "558       608          5       9     5.0   \n",
       "782       923          5      11     5.0   \n",
       "867       246          5      15     5.0   \n",
       "928       899          5      15     5.0   \n",
       "992       922          5      15     1.0   \n",
       "1031      953          5      15     3.0   \n",
       "\n",
       "                                                  title    imdb_id  \n",
       "0                              The Million Dollar Hotel  tt0120753  \n",
       "311                                               Miffo  tt0342771  \n",
       "372                                         Hard Target  tt0107076  \n",
       "426   Shriek If You Know What I Did Last Friday the ...  tt0212235  \n",
       "558                                     Men in Black II  tt0120912  \n",
       "782                                    Dawn of the Dead  tt0077402  \n",
       "867                                            Zatoichi  tt0363226  \n",
       "928                                     Broken Blossoms  tt0009968  \n",
       "992                                            Dead Man  tt0112817  \n",
       "1031                                         Madagascar  tt0351283  "
      ]
     },
     "execution_count": 587,
     "metadata": {},
     "output_type": "execute_result"
    }
   ],
   "source": [
    "user_ratings.merge(rating_movies, how='left', left_on='movieId', right_on='movieId').drop_duplicates('movieId', keep='first')"
   ]
  },
  {
   "cell_type": "code",
   "execution_count": 267,
   "id": "150b7597-ee3b-4791-b9bf-b9bb11170dec",
   "metadata": {},
   "outputs": [
    {
     "data": {
      "text/plain": [
       "18528"
      ]
     },
     "execution_count": 267,
     "metadata": {},
     "output_type": "execute_result"
    }
   ],
   "source": [
    "import sys\n",
    "sys.getsizeof(predict_dict)"
   ]
  },
  {
   "cell_type": "code",
   "execution_count": 268,
   "id": "42c9fa07-b9ba-47bd-9b46-19190acc3dce",
   "metadata": {},
   "outputs": [
    {
     "data": {
      "text/plain": [
       "collections.defaultdict"
      ]
     },
     "execution_count": 268,
     "metadata": {},
     "output_type": "execute_result"
    }
   ],
   "source": [
    "type(predict_dict)"
   ]
  },
  {
   "cell_type": "code",
   "execution_count": 588,
   "id": "59069a9d-6cee-4c37-963e-4c5f6b799705",
   "metadata": {},
   "outputs": [],
   "source": [
    "pickle.dump(predict_dict, \n",
    "            open(file='models/predict_dict_user_based.sav', \n",
    "                 mode='wb'))"
   ]
  },
  {
   "cell_type": "code",
   "execution_count": 191,
   "id": "db86ee1a-422f-47b6-8cd3-c4cce4d5704a",
   "metadata": {},
   "outputs": [],
   "source": [
    "userId = 4"
   ]
  },
  {
   "cell_type": "code",
   "execution_count": 208,
   "id": "b8b4bbcb-5129-402f-ad98-325f4616f7b3",
   "metadata": {},
   "outputs": [],
   "source": [
    "def get_ratings_for_user(userId):\n",
    "    temp = rating_movies[rating_movies.userId == userId].copy().sort_values('rating',ascending = False)\n",
    "    return temp"
   ]
  },
  {
   "cell_type": "code",
   "execution_count": 210,
   "id": "d3d7f24e-443c-4593-9b2f-96dcd1d92139",
   "metadata": {},
   "outputs": [
    {
     "data": {
      "text/html": [
       "<div>\n",
       "<style scoped>\n",
       "    .dataframe tbody tr th:only-of-type {\n",
       "        vertical-align: middle;\n",
       "    }\n",
       "\n",
       "    .dataframe tbody tr th {\n",
       "        vertical-align: top;\n",
       "    }\n",
       "\n",
       "    .dataframe thead th {\n",
       "        text-align: right;\n",
       "    }\n",
       "</style>\n",
       "<table border=\"1\" class=\"dataframe\">\n",
       "  <thead>\n",
       "    <tr style=\"text-align: right;\">\n",
       "      <th></th>\n",
       "      <th>movieId</th>\n",
       "      <th>userId</th>\n",
       "      <th>rating</th>\n",
       "      <th>title</th>\n",
       "      <th>imdb_id</th>\n",
       "    </tr>\n",
       "  </thead>\n",
       "  <tbody>\n",
       "    <tr>\n",
       "      <th>12092</th>\n",
       "      <td>1954</td>\n",
       "      <td>4</td>\n",
       "      <td>5.0</td>\n",
       "      <td>The Butterfly Effect</td>\n",
       "      <td>tt0289879</td>\n",
       "    </tr>\n",
       "    <tr>\n",
       "      <th>11168</th>\n",
       "      <td>1278</td>\n",
       "      <td>4</td>\n",
       "      <td>5.0</td>\n",
       "      <td>The Dreamers</td>\n",
       "      <td>tt0309987</td>\n",
       "    </tr>\n",
       "    <tr>\n",
       "      <th>11813</th>\n",
       "      <td>1396</td>\n",
       "      <td>4</td>\n",
       "      <td>5.0</td>\n",
       "      <td>Mirror</td>\n",
       "      <td>tt0072443</td>\n",
       "    </tr>\n",
       "    <tr>\n",
       "      <th>11705</th>\n",
       "      <td>1387</td>\n",
       "      <td>4</td>\n",
       "      <td>5.0</td>\n",
       "      <td>Superstar: The Karen Carpenter Story</td>\n",
       "      <td>tt0094075</td>\n",
       "    </tr>\n",
       "    <tr>\n",
       "      <th>11615</th>\n",
       "      <td>1380</td>\n",
       "      <td>4</td>\n",
       "      <td>5.0</td>\n",
       "      <td>Gleaming the Cube</td>\n",
       "      <td>tt0097438</td>\n",
       "    </tr>\n",
       "    <tr>\n",
       "      <th>13327</th>\n",
       "      <td>2115</td>\n",
       "      <td>4</td>\n",
       "      <td>5.0</td>\n",
       "      <td>Light of Day</td>\n",
       "      <td>tt0093415</td>\n",
       "    </tr>\n",
       "    <tr>\n",
       "      <th>13460</th>\n",
       "      <td>2140</td>\n",
       "      <td>4</td>\n",
       "      <td>5.0</td>\n",
       "      <td>Kiss of the Dragon</td>\n",
       "      <td>tt0271027</td>\n",
       "    </tr>\n",
       "    <tr>\n",
       "      <th>11242</th>\n",
       "      <td>1282</td>\n",
       "      <td>4</td>\n",
       "      <td>5.0</td>\n",
       "      <td>Dogtown and Z-Boys</td>\n",
       "      <td>tt0275309</td>\n",
       "    </tr>\n",
       "    <tr>\n",
       "      <th>11003</th>\n",
       "      <td>1265</td>\n",
       "      <td>4</td>\n",
       "      <td>5.0</td>\n",
       "      <td>Bridge to Terabithia</td>\n",
       "      <td>tt0398808</td>\n",
       "    </tr>\n",
       "    <tr>\n",
       "      <th>10240</th>\n",
       "      <td>919</td>\n",
       "      <td>4</td>\n",
       "      <td>5.0</td>\n",
       "      <td>Blood: The Last Vampire</td>\n",
       "      <td>tt0275230</td>\n",
       "    </tr>\n",
       "  </tbody>\n",
       "</table>\n",
       "</div>"
      ],
      "text/plain": [
       "       movieId  userId  rating                                 title  \\\n",
       "12092     1954       4     5.0                  The Butterfly Effect   \n",
       "11168     1278       4     5.0                          The Dreamers   \n",
       "11813     1396       4     5.0                                Mirror   \n",
       "11705     1387       4     5.0  Superstar: The Karen Carpenter Story   \n",
       "11615     1380       4     5.0                     Gleaming the Cube   \n",
       "13327     2115       4     5.0                          Light of Day   \n",
       "13460     2140       4     5.0                    Kiss of the Dragon   \n",
       "11242     1282       4     5.0                    Dogtown and Z-Boys   \n",
       "11003     1265       4     5.0                  Bridge to Terabithia   \n",
       "10240      919       4     5.0               Blood: The Last Vampire   \n",
       "\n",
       "         imdb_id  \n",
       "12092  tt0289879  \n",
       "11168  tt0309987  \n",
       "11813  tt0072443  \n",
       "11705  tt0094075  \n",
       "11615  tt0097438  \n",
       "13327  tt0093415  \n",
       "13460  tt0271027  \n",
       "11242  tt0275309  \n",
       "11003  tt0398808  \n",
       "10240  tt0275230  "
      ]
     },
     "execution_count": 210,
     "metadata": {},
     "output_type": "execute_result"
    }
   ],
   "source": [
    "get_ratings_for_user(userId).head(10)"
   ]
  },
  {
   "cell_type": "markdown",
   "id": "31c749cb-dd74-4976-b4d2-2270d70a5fb5",
   "metadata": {},
   "source": [
    "#### KNN with ZScore model"
   ]
  },
  {
   "cell_type": "code",
   "execution_count": 589,
   "id": "49dbc3f4-fdc7-48c1-b9a2-f3a11207fa68",
   "metadata": {},
   "outputs": [],
   "source": [
    "knnz = KNNWithZScore()"
   ]
  },
  {
   "cell_type": "code",
   "execution_count": 181,
   "id": "34de16b4-627f-4236-93b2-25a80e120388",
   "metadata": {
    "tags": []
   },
   "outputs": [
    {
     "name": "stdout",
     "output_type": "stream",
     "text": [
      "Computing the msd similarity matrix...\n",
      "Done computing similarity matrix.\n",
      "Computing the msd similarity matrix...\n",
      "Done computing similarity matrix.\n",
      "Computing the msd similarity matrix...\n",
      "Done computing similarity matrix.\n",
      "Computing the msd similarity matrix...\n",
      "Done computing similarity matrix.\n",
      "Computing the msd similarity matrix...\n",
      "Done computing similarity matrix.\n",
      "Evaluating RMSE, MAE of algorithm KNNWithZScore on 5 split(s).\n",
      "\n",
      "                  Fold 1  Fold 2  Fold 3  Fold 4  Fold 5  Mean    Std     \n",
      "RMSE (testset)    0.9150  0.9154  0.9253  0.9112  0.9193  0.9172  0.0048  \n",
      "MAE (testset)     0.6955  0.6976  0.7023  0.6959  0.7003  0.6983  0.0026  \n",
      "Fit time          0.24    0.26    0.25    0.26    0.26    0.26    0.01    \n",
      "Test time         1.55    1.30    1.26    1.28    1.29    1.33    0.11    \n",
      "Computing the msd similarity matrix...\n",
      "Done computing similarity matrix.\n",
      "Computing the msd similarity matrix...\n",
      "Done computing similarity matrix.\n",
      "Computing the msd similarity matrix...\n",
      "Done computing similarity matrix.\n",
      "Computing the msd similarity matrix...\n",
      "Done computing similarity matrix.\n",
      "Computing the msd similarity matrix...\n",
      "Done computing similarity matrix.\n",
      "Evaluating RMSE, MAE of algorithm KNNWithZScore on 5 split(s).\n",
      "\n",
      "                  Fold 1  Fold 2  Fold 3  Fold 4  Fold 5  Mean    Std     \n",
      "RMSE (testset)    0.9147  0.9328  0.9114  0.9159  0.9154  0.9180  0.0076  \n",
      "MAE (testset)     0.6975  0.7087  0.6919  0.6984  0.6979  0.6989  0.0055  \n",
      "Fit time          0.27    0.30    0.30    0.28    0.28    0.28    0.01    \n",
      "Test time         1.36    1.34    1.36    1.38    1.44    1.38    0.04    \n",
      "Computing the msd similarity matrix...\n",
      "Done computing similarity matrix.\n",
      "Computing the msd similarity matrix...\n",
      "Done computing similarity matrix.\n",
      "Computing the msd similarity matrix...\n",
      "Done computing similarity matrix.\n",
      "Computing the msd similarity matrix...\n",
      "Done computing similarity matrix.\n",
      "Computing the msd similarity matrix...\n",
      "Done computing similarity matrix.\n",
      "Evaluating RMSE, MAE of algorithm KNNWithZScore on 5 split(s).\n",
      "\n",
      "                  Fold 1  Fold 2  Fold 3  Fold 4  Fold 5  Mean    Std     \n",
      "RMSE (testset)    0.9129  0.9103  0.9241  0.9155  0.9277  0.9181  0.0067  \n",
      "MAE (testset)     0.6932  0.6945  0.7015  0.6984  0.7042  0.6984  0.0041  \n",
      "Fit time          0.28    0.30    0.26    0.26    0.26    0.27    0.02    \n",
      "Test time         1.34    1.64    1.33    1.30    1.42    1.40    0.12    \n",
      "Computing the msd similarity matrix...\n",
      "Done computing similarity matrix.\n",
      "Computing the msd similarity matrix...\n",
      "Done computing similarity matrix.\n",
      "Computing the msd similarity matrix...\n",
      "Done computing similarity matrix.\n",
      "Computing the msd similarity matrix...\n",
      "Done computing similarity matrix.\n",
      "Computing the msd similarity matrix...\n",
      "Done computing similarity matrix.\n",
      "Evaluating RMSE, MAE of algorithm KNNWithZScore on 5 split(s).\n",
      "\n",
      "                  Fold 1  Fold 2  Fold 3  Fold 4  Fold 5  Mean    Std     \n",
      "RMSE (testset)    0.9206  0.9101  0.9264  0.9155  0.9159  0.9177  0.0055  \n",
      "MAE (testset)     0.6998  0.6951  0.7065  0.6947  0.6966  0.6985  0.0044  \n",
      "Fit time          0.30    0.26    0.30    0.26    0.26    0.28    0.02    \n",
      "Test time         1.38    1.33    1.61    1.36    1.36    1.41    0.10    \n",
      "Computing the msd similarity matrix...\n",
      "Done computing similarity matrix.\n",
      "Computing the msd similarity matrix...\n",
      "Done computing similarity matrix.\n",
      "Computing the msd similarity matrix...\n",
      "Done computing similarity matrix.\n",
      "Computing the msd similarity matrix...\n",
      "Done computing similarity matrix.\n",
      "Computing the msd similarity matrix...\n",
      "Done computing similarity matrix.\n",
      "Evaluating RMSE, MAE of algorithm KNNWithZScore on 5 split(s).\n",
      "\n",
      "                  Fold 1  Fold 2  Fold 3  Fold 4  Fold 5  Mean    Std     \n",
      "RMSE (testset)    0.9212  0.9171  0.9171  0.9144  0.9193  0.9178  0.0023  \n",
      "MAE (testset)     0.7022  0.6956  0.6985  0.6965  0.6989  0.6983  0.0023  \n",
      "Fit time          0.33    0.26    0.27    0.37    0.28    0.30    0.04    \n",
      "Test time         1.42    1.35    1.34    1.99    1.62    1.54    0.25    \n"
     ]
    }
   ],
   "source": [
    "# for trainset, testset in kf.split(data):\n",
    "\n",
    "#     # train and test algorithm.\n",
    "#     # algo.fit(trainset)\n",
    "#     # predictions = algo.test(testset)\n",
    "\n",
    "#     # evalu\n",
    "#     # Compute and print Root Mean Squared Error\n",
    "#     cross_validate(algo, data, measures=['RMSE', 'MAE'], cv=5, verbose=True)"
   ]
  },
  {
   "cell_type": "code",
   "execution_count": 590,
   "id": "7f48e99a-c9fc-41e5-9c1b-551e00384209",
   "metadata": {},
   "outputs": [
    {
     "name": "stdout",
     "output_type": "stream",
     "text": [
      "Computing the msd similarity matrix...\n",
      "Done computing similarity matrix.\n"
     ]
    },
    {
     "data": {
      "text/plain": [
       "<surprise.prediction_algorithms.knns.KNNWithZScore at 0x1a9772005e0>"
      ]
     },
     "execution_count": 590,
     "metadata": {},
     "output_type": "execute_result"
    }
   ],
   "source": [
    "knnz.fit(trainset)"
   ]
  },
  {
   "cell_type": "code",
   "execution_count": 591,
   "id": "40b5a6c5-22d7-4d7f-a2f8-b5e7bbb6581e",
   "metadata": {},
   "outputs": [],
   "source": [
    "predictions = knnz.test(testset)"
   ]
  },
  {
   "cell_type": "code",
   "execution_count": 592,
   "id": "d68cf946-db4f-4e15-8945-0b50957ba68f",
   "metadata": {},
   "outputs": [],
   "source": [
    "def get_top_n(predictions, n=10):\n",
    "    top_n = defaultdict(list)\n",
    "    for uid, iid, true_r, est, _ in predictions:\n",
    "        top_n[uid].append((iid, est))\n",
    "\n",
    "    for uid, user_ratings in top_n.items():\n",
    "        user_ratings.sort(key=lambda x: x[1], reverse=True)\n",
    "        top_n[uid] = user_ratings[:n]\n",
    "\n",
    "    return top_n"
   ]
  },
  {
   "cell_type": "code",
   "execution_count": 593,
   "id": "3f7c3d96-4f4f-43d6-bdb3-69730f9f6eff",
   "metadata": {
    "tags": []
   },
   "outputs": [],
   "source": [
    "predict_dict = get_top_n(predictions, 10)"
   ]
  },
  {
   "cell_type": "code",
   "execution_count": 594,
   "id": "5196beba-9ddc-4764-830e-8f6ebb448923",
   "metadata": {},
   "outputs": [],
   "source": [
    "df = pd.DataFrame(predict_dict.items(), columns=['userId', 'est_score'])"
   ]
  },
  {
   "cell_type": "code",
   "execution_count": 595,
   "id": "1edc07f0-ff34-4f1c-8d01-584d60eb6c5d",
   "metadata": {},
   "outputs": [
    {
     "data": {
      "text/plain": [
       "[(803, 5),\n",
       " (926, 5),\n",
       " (1361, 5),\n",
       " (1649, 5),\n",
       " (1859, 5),\n",
       " (1945, 5),\n",
       " (3010, 5),\n",
       " (3030, 5),\n",
       " (4271, 5),\n",
       " (5071, 5)]"
      ]
     },
     "execution_count": 595,
     "metadata": {},
     "output_type": "execute_result"
    }
   ],
   "source": [
    "df.est_score[1]"
   ]
  },
  {
   "cell_type": "code",
   "execution_count": 596,
   "id": "c9503e82-9e11-47d4-ad55-6c8b7362a853",
   "metadata": {},
   "outputs": [],
   "source": [
    "user_ratings = pd.DataFrame (df.est_score[1], columns = ['movieId','est_score'])"
   ]
  },
  {
   "cell_type": "code",
   "execution_count": 438,
   "id": "e8ad6f0a-7ec2-469d-8093-a2a4ad567436",
   "metadata": {},
   "outputs": [],
   "source": [
    "# user_ratings.movieId = pd.to_numeric(user_ratings.movieId, errors='coerce').fillna(0).astype(np.int64)"
   ]
  },
  {
   "cell_type": "code",
   "execution_count": 439,
   "id": "d794f15d-ae88-4998-9f32-967777f09861",
   "metadata": {},
   "outputs": [
    {
     "name": "stdout",
     "output_type": "stream",
     "text": [
      "<class 'pandas.core.frame.DataFrame'>\n",
      "RangeIndex: 10 entries, 0 to 9\n",
      "Data columns (total 2 columns):\n",
      " #   Column     Non-Null Count  Dtype\n",
      "---  ------     --------------  -----\n",
      " 0   movieId    10 non-null     int64\n",
      " 1   est_score  10 non-null     int64\n",
      "dtypes: int64(2)\n",
      "memory usage: 288.0 bytes\n"
     ]
    }
   ],
   "source": [
    "user_ratings.info()"
   ]
  },
  {
   "cell_type": "code",
   "execution_count": 597,
   "id": "6093b02d-067c-4f0f-bbd6-c8344b6f8a6c",
   "metadata": {},
   "outputs": [
    {
     "data": {
      "text/html": [
       "<div>\n",
       "<style scoped>\n",
       "    .dataframe tbody tr th:only-of-type {\n",
       "        vertical-align: middle;\n",
       "    }\n",
       "\n",
       "    .dataframe tbody tr th {\n",
       "        vertical-align: top;\n",
       "    }\n",
       "\n",
       "    .dataframe thead th {\n",
       "        text-align: right;\n",
       "    }\n",
       "</style>\n",
       "<table border=\"1\" class=\"dataframe\">\n",
       "  <thead>\n",
       "    <tr style=\"text-align: right;\">\n",
       "      <th></th>\n",
       "      <th>movieId</th>\n",
       "      <th>est_score</th>\n",
       "      <th>userId</th>\n",
       "      <th>rating</th>\n",
       "      <th>title</th>\n",
       "      <th>imdb_id</th>\n",
       "    </tr>\n",
       "  </thead>\n",
       "  <tbody>\n",
       "    <tr>\n",
       "      <th>0</th>\n",
       "      <td>803</td>\n",
       "      <td>5</td>\n",
       "      <td>15</td>\n",
       "      <td>4.5</td>\n",
       "      <td>Night and Fog</td>\n",
       "      <td>tt0048434</td>\n",
       "    </tr>\n",
       "    <tr>\n",
       "      <th>2</th>\n",
       "      <td>926</td>\n",
       "      <td>5</td>\n",
       "      <td>15</td>\n",
       "      <td>3.0</td>\n",
       "      <td>Galaxy Quest</td>\n",
       "      <td>tt0177789</td>\n",
       "    </tr>\n",
       "    <tr>\n",
       "      <th>40</th>\n",
       "      <td>1361</td>\n",
       "      <td>5</td>\n",
       "      <td>15</td>\n",
       "      <td>3.5</td>\n",
       "      <td>The Return of the King</td>\n",
       "      <td>tt0079802</td>\n",
       "    </tr>\n",
       "    <tr>\n",
       "      <th>53</th>\n",
       "      <td>1649</td>\n",
       "      <td>5</td>\n",
       "      <td>15</td>\n",
       "      <td>2.0</td>\n",
       "      <td>Bill &amp; Ted's Bogus Journey</td>\n",
       "      <td>tt0101452</td>\n",
       "    </tr>\n",
       "    <tr>\n",
       "      <th>59</th>\n",
       "      <td>1859</td>\n",
       "      <td>5</td>\n",
       "      <td>15</td>\n",
       "      <td>5.0</td>\n",
       "      <td>Ninotchka</td>\n",
       "      <td>tt0031725</td>\n",
       "    </tr>\n",
       "    <tr>\n",
       "      <th>61</th>\n",
       "      <td>1945</td>\n",
       "      <td>5</td>\n",
       "      <td>15</td>\n",
       "      <td>4.0</td>\n",
       "      <td>Nell</td>\n",
       "      <td>tt0110638</td>\n",
       "    </tr>\n",
       "    <tr>\n",
       "      <th>90</th>\n",
       "      <td>3010</td>\n",
       "      <td>5</td>\n",
       "      <td>15</td>\n",
       "      <td>4.0</td>\n",
       "      <td>The Cardinal</td>\n",
       "      <td>tt0056907</td>\n",
       "    </tr>\n",
       "    <tr>\n",
       "      <th>92</th>\n",
       "      <td>3030</td>\n",
       "      <td>5</td>\n",
       "      <td>15</td>\n",
       "      <td>4.0</td>\n",
       "      <td>End of the World</td>\n",
       "      <td>tt0075990</td>\n",
       "    </tr>\n",
       "    <tr>\n",
       "      <th>101</th>\n",
       "      <td>4271</td>\n",
       "      <td>5</td>\n",
       "      <td>15</td>\n",
       "      <td>4.0</td>\n",
       "      <td>Life Is a Long Quiet River</td>\n",
       "      <td>tt0096386</td>\n",
       "    </tr>\n",
       "    <tr>\n",
       "      <th>104</th>\n",
       "      <td>5071</td>\n",
       "      <td>5</td>\n",
       "      <td>15</td>\n",
       "      <td>5.0</td>\n",
       "      <td>The Crazy Stranger</td>\n",
       "      <td>tt0122082</td>\n",
       "    </tr>\n",
       "  </tbody>\n",
       "</table>\n",
       "</div>"
      ],
      "text/plain": [
       "     movieId  est_score  userId  rating                       title    imdb_id\n",
       "0        803          5      15     4.5               Night and Fog  tt0048434\n",
       "2        926          5      15     3.0                Galaxy Quest  tt0177789\n",
       "40      1361          5      15     3.5      The Return of the King  tt0079802\n",
       "53      1649          5      15     2.0  Bill & Ted's Bogus Journey  tt0101452\n",
       "59      1859          5      15     5.0                   Ninotchka  tt0031725\n",
       "61      1945          5      15     4.0                        Nell  tt0110638\n",
       "90      3010          5      15     4.0                The Cardinal  tt0056907\n",
       "92      3030          5      15     4.0            End of the World  tt0075990\n",
       "101     4271          5      15     4.0  Life Is a Long Quiet River  tt0096386\n",
       "104     5071          5      15     5.0          The Crazy Stranger  tt0122082"
      ]
     },
     "execution_count": 597,
     "metadata": {},
     "output_type": "execute_result"
    }
   ],
   "source": [
    "user_ratings.merge(rating_movies, how='left', left_on='movieId', right_on='movieId').drop_duplicates('movieId', keep='first')"
   ]
  },
  {
   "cell_type": "code",
   "execution_count": 441,
   "id": "1da8b837-ec00-4cb4-a90c-dc6716e7e3c0",
   "metadata": {},
   "outputs": [
    {
     "data": {
      "text/plain": [
       "18528"
      ]
     },
     "execution_count": 441,
     "metadata": {},
     "output_type": "execute_result"
    }
   ],
   "source": [
    "import sys\n",
    "sys.getsizeof(predict_dict)"
   ]
  },
  {
   "cell_type": "code",
   "execution_count": 442,
   "id": "01eaa45e-c9cf-4ed2-9daf-829556c5995d",
   "metadata": {},
   "outputs": [
    {
     "data": {
      "text/plain": [
       "collections.defaultdict"
      ]
     },
     "execution_count": 442,
     "metadata": {},
     "output_type": "execute_result"
    }
   ],
   "source": [
    "type(predict_dict)"
   ]
  },
  {
   "cell_type": "code",
   "execution_count": 598,
   "id": "a1c8f96c-5c08-41a3-a2f9-906505d4b297",
   "metadata": {},
   "outputs": [],
   "source": [
    "pickle.dump(predict_dict, \n",
    "            open(file='models/predict_dict_knnz.sav', \n",
    "                 mode='wb'))"
   ]
  },
  {
   "cell_type": "code",
   "execution_count": 232,
   "id": "a6a3977e-fe68-4dde-8ba3-fe3f7aeca403",
   "metadata": {
    "collapsed": true,
    "jupyter": {
     "outputs_hidden": true
    },
    "tags": []
   },
   "outputs": [
    {
     "ename": "TypeError",
     "evalue": "can only concatenate list (not \"tuple\") to list",
     "output_type": "error",
     "traceback": [
      "\u001b[1;31m---------------------------------------------------------------------------\u001b[0m",
      "\u001b[1;31mTypeError\u001b[0m                                 Traceback (most recent call last)",
      "\u001b[1;32m~\\AppData\\Local\\Temp/ipykernel_9840/252040906.py\u001b[0m in \u001b[0;36m<module>\u001b[1;34m\u001b[0m\n\u001b[1;32m----> 1\u001b[1;33m top_n_predictions_for_user = pd.DataFrame([[k] + v[0] for k, v in predict_dict.items()], \n\u001b[0m\u001b[0;32m      2\u001b[0m                    columns=['id', 'rating_est'])\n",
      "\u001b[1;32m~\\AppData\\Local\\Temp/ipykernel_9840/252040906.py\u001b[0m in \u001b[0;36m<listcomp>\u001b[1;34m(.0)\u001b[0m\n\u001b[1;32m----> 1\u001b[1;33m top_n_predictions_for_user = pd.DataFrame([[k] + v[0] for k, v in predict_dict.items()], \n\u001b[0m\u001b[0;32m      2\u001b[0m                    columns=['id', 'rating_est'])\n",
      "\u001b[1;31mTypeError\u001b[0m: can only concatenate list (not \"tuple\") to list"
     ]
    }
   ],
   "source": [
    "top_n_predictions_for_user = pd.DataFrame([[k] + v[0] for k, v in predict_dict.items()], \n",
    "                   columns=['id', 'rating_est'])"
   ]
  },
  {
   "cell_type": "code",
   "execution_count": 191,
   "id": "6af3ba6c-d03e-4303-9378-17b624b7ef56",
   "metadata": {},
   "outputs": [],
   "source": [
    "userId = 4"
   ]
  },
  {
   "cell_type": "code",
   "execution_count": 208,
   "id": "aaeae6fa-9ffb-4d01-9fa5-3840e1e4c1f7",
   "metadata": {},
   "outputs": [],
   "source": [
    "def get_ratings_for_user(userId):\n",
    "    temp = rating_movies[rating_movies.userId == userId].copy().sort_values('rating',ascending = False)\n",
    "    return temp"
   ]
  },
  {
   "cell_type": "code",
   "execution_count": 210,
   "id": "f362a8f9-ec48-4fd7-9497-0527bfa0e611",
   "metadata": {},
   "outputs": [
    {
     "data": {
      "text/html": [
       "<div>\n",
       "<style scoped>\n",
       "    .dataframe tbody tr th:only-of-type {\n",
       "        vertical-align: middle;\n",
       "    }\n",
       "\n",
       "    .dataframe tbody tr th {\n",
       "        vertical-align: top;\n",
       "    }\n",
       "\n",
       "    .dataframe thead th {\n",
       "        text-align: right;\n",
       "    }\n",
       "</style>\n",
       "<table border=\"1\" class=\"dataframe\">\n",
       "  <thead>\n",
       "    <tr style=\"text-align: right;\">\n",
       "      <th></th>\n",
       "      <th>movieId</th>\n",
       "      <th>userId</th>\n",
       "      <th>rating</th>\n",
       "      <th>title</th>\n",
       "      <th>imdb_id</th>\n",
       "    </tr>\n",
       "  </thead>\n",
       "  <tbody>\n",
       "    <tr>\n",
       "      <th>12092</th>\n",
       "      <td>1954</td>\n",
       "      <td>4</td>\n",
       "      <td>5.0</td>\n",
       "      <td>The Butterfly Effect</td>\n",
       "      <td>tt0289879</td>\n",
       "    </tr>\n",
       "    <tr>\n",
       "      <th>11168</th>\n",
       "      <td>1278</td>\n",
       "      <td>4</td>\n",
       "      <td>5.0</td>\n",
       "      <td>The Dreamers</td>\n",
       "      <td>tt0309987</td>\n",
       "    </tr>\n",
       "    <tr>\n",
       "      <th>11813</th>\n",
       "      <td>1396</td>\n",
       "      <td>4</td>\n",
       "      <td>5.0</td>\n",
       "      <td>Mirror</td>\n",
       "      <td>tt0072443</td>\n",
       "    </tr>\n",
       "    <tr>\n",
       "      <th>11705</th>\n",
       "      <td>1387</td>\n",
       "      <td>4</td>\n",
       "      <td>5.0</td>\n",
       "      <td>Superstar: The Karen Carpenter Story</td>\n",
       "      <td>tt0094075</td>\n",
       "    </tr>\n",
       "    <tr>\n",
       "      <th>11615</th>\n",
       "      <td>1380</td>\n",
       "      <td>4</td>\n",
       "      <td>5.0</td>\n",
       "      <td>Gleaming the Cube</td>\n",
       "      <td>tt0097438</td>\n",
       "    </tr>\n",
       "    <tr>\n",
       "      <th>13327</th>\n",
       "      <td>2115</td>\n",
       "      <td>4</td>\n",
       "      <td>5.0</td>\n",
       "      <td>Light of Day</td>\n",
       "      <td>tt0093415</td>\n",
       "    </tr>\n",
       "    <tr>\n",
       "      <th>13460</th>\n",
       "      <td>2140</td>\n",
       "      <td>4</td>\n",
       "      <td>5.0</td>\n",
       "      <td>Kiss of the Dragon</td>\n",
       "      <td>tt0271027</td>\n",
       "    </tr>\n",
       "    <tr>\n",
       "      <th>11242</th>\n",
       "      <td>1282</td>\n",
       "      <td>4</td>\n",
       "      <td>5.0</td>\n",
       "      <td>Dogtown and Z-Boys</td>\n",
       "      <td>tt0275309</td>\n",
       "    </tr>\n",
       "    <tr>\n",
       "      <th>11003</th>\n",
       "      <td>1265</td>\n",
       "      <td>4</td>\n",
       "      <td>5.0</td>\n",
       "      <td>Bridge to Terabithia</td>\n",
       "      <td>tt0398808</td>\n",
       "    </tr>\n",
       "    <tr>\n",
       "      <th>10240</th>\n",
       "      <td>919</td>\n",
       "      <td>4</td>\n",
       "      <td>5.0</td>\n",
       "      <td>Blood: The Last Vampire</td>\n",
       "      <td>tt0275230</td>\n",
       "    </tr>\n",
       "  </tbody>\n",
       "</table>\n",
       "</div>"
      ],
      "text/plain": [
       "       movieId  userId  rating                                 title  \\\n",
       "12092     1954       4     5.0                  The Butterfly Effect   \n",
       "11168     1278       4     5.0                          The Dreamers   \n",
       "11813     1396       4     5.0                                Mirror   \n",
       "11705     1387       4     5.0  Superstar: The Karen Carpenter Story   \n",
       "11615     1380       4     5.0                     Gleaming the Cube   \n",
       "13327     2115       4     5.0                          Light of Day   \n",
       "13460     2140       4     5.0                    Kiss of the Dragon   \n",
       "11242     1282       4     5.0                    Dogtown and Z-Boys   \n",
       "11003     1265       4     5.0                  Bridge to Terabithia   \n",
       "10240      919       4     5.0               Blood: The Last Vampire   \n",
       "\n",
       "         imdb_id  \n",
       "12092  tt0289879  \n",
       "11168  tt0309987  \n",
       "11813  tt0072443  \n",
       "11705  tt0094075  \n",
       "11615  tt0097438  \n",
       "13327  tt0093415  \n",
       "13460  tt0271027  \n",
       "11242  tt0275309  \n",
       "11003  tt0398808  \n",
       "10240  tt0275230  "
      ]
     },
     "execution_count": 210,
     "metadata": {},
     "output_type": "execute_result"
    }
   ],
   "source": [
    "get_ratings_for_user(userId).head(10)"
   ]
  }
 ],
 "metadata": {
  "kernelspec": {
   "display_name": "Python 3 (ipykernel)",
   "language": "python",
   "name": "python3"
  },
  "language_info": {
   "codemirror_mode": {
    "name": "ipython",
    "version": 3
   },
   "file_extension": ".py",
   "mimetype": "text/x-python",
   "name": "python",
   "nbconvert_exporter": "python",
   "pygments_lexer": "ipython3",
   "version": "3.8.12"
  }
 },
 "nbformat": 4,
 "nbformat_minor": 5
}
